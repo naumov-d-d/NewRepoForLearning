{
 "cells": [
  {
   "cell_type": "code",
   "execution_count": 1,
   "metadata": {
    "scrolled": false
   },
   "outputs": [
    {
     "name": "stderr",
     "output_type": "stream",
     "text": [
      "Using TensorFlow backend.\n"
     ]
    }
   ],
   "source": [
    "# Загрузка зависимостей\n",
    "import numpy\n",
    "import pandas\n",
    "import matplotlib.pyplot as plt\n",
    "import keras\n",
    "from keras.models import Sequential\n",
    "from keras.layers import Dense\n",
    "from sklearn.preprocessing import StandardScaler\n",
    "from sklearn.preprocessing import MinMaxScaler\n",
    "from sklearn.model_selection import train_test_split\n",
    "from sklearn.metrics import mean_squared_error\n",
    "from scipy import stats\n",
    "from statsmodels.graphics.gofplots import qqplot"
   ]
  },
  {
   "cell_type": "code",
   "execution_count": 2,
   "metadata": {
    "scrolled": true
   },
   "outputs": [
    {
     "data": {
      "text/html": [
       "<div>\n",
       "<style scoped>\n",
       "    .dataframe tbody tr th:only-of-type {\n",
       "        vertical-align: middle;\n",
       "    }\n",
       "\n",
       "    .dataframe tbody tr th {\n",
       "        vertical-align: top;\n",
       "    }\n",
       "\n",
       "    .dataframe thead th {\n",
       "        text-align: right;\n",
       "    }\n",
       "</style>\n",
       "<table border=\"1\" class=\"dataframe\">\n",
       "  <thead>\n",
       "    <tr style=\"text-align: right;\">\n",
       "      <th></th>\n",
       "      <th>Unnamed: 0</th>\n",
       "      <th>price</th>\n",
       "      <th>totsp</th>\n",
       "      <th>livesp</th>\n",
       "      <th>kitsp</th>\n",
       "      <th>dist</th>\n",
       "      <th>metrdist</th>\n",
       "      <th>walk</th>\n",
       "      <th>brick</th>\n",
       "      <th>floor</th>\n",
       "      <th>1</th>\n",
       "      <th>2</th>\n",
       "      <th>3</th>\n",
       "      <th>4</th>\n",
       "      <th>5</th>\n",
       "      <th>6</th>\n",
       "      <th>7</th>\n",
       "      <th>8</th>\n",
       "    </tr>\n",
       "  </thead>\n",
       "  <tbody>\n",
       "    <tr>\n",
       "      <th>0</th>\n",
       "      <td>0</td>\n",
       "      <td>0.209515</td>\n",
       "      <td>0.305476</td>\n",
       "      <td>0.05</td>\n",
       "      <td>0.05</td>\n",
       "      <td>0.678571</td>\n",
       "      <td>0.572837</td>\n",
       "      <td>1</td>\n",
       "      <td>1</td>\n",
       "      <td>1</td>\n",
       "      <td>0</td>\n",
       "      <td>0</td>\n",
       "      <td>1</td>\n",
       "      <td>0</td>\n",
       "      <td>0</td>\n",
       "      <td>0</td>\n",
       "      <td>0</td>\n",
       "      <td>0</td>\n",
       "    </tr>\n",
       "    <tr>\n",
       "      <th>1</th>\n",
       "      <td>1</td>\n",
       "      <td>0.176091</td>\n",
       "      <td>0.000000</td>\n",
       "      <td>0.05</td>\n",
       "      <td>0.05</td>\n",
       "      <td>0.750000</td>\n",
       "      <td>0.572837</td>\n",
       "      <td>1</td>\n",
       "      <td>0</td>\n",
       "      <td>1</td>\n",
       "      <td>0</td>\n",
       "      <td>0</td>\n",
       "      <td>0</td>\n",
       "      <td>0</td>\n",
       "      <td>0</td>\n",
       "      <td>1</td>\n",
       "      <td>0</td>\n",
       "      <td>0</td>\n",
       "    </tr>\n",
       "    <tr>\n",
       "      <th>2</th>\n",
       "      <td>2</td>\n",
       "      <td>0.408240</td>\n",
       "      <td>0.347262</td>\n",
       "      <td>0.05</td>\n",
       "      <td>0.05</td>\n",
       "      <td>0.821429</td>\n",
       "      <td>0.254805</td>\n",
       "      <td>1</td>\n",
       "      <td>1</td>\n",
       "      <td>1</td>\n",
       "      <td>0</td>\n",
       "      <td>0</td>\n",
       "      <td>1</td>\n",
       "      <td>0</td>\n",
       "      <td>0</td>\n",
       "      <td>0</td>\n",
       "      <td>0</td>\n",
       "      <td>0</td>\n",
       "    </tr>\n",
       "    <tr>\n",
       "      <th>3</th>\n",
       "      <td>3</td>\n",
       "      <td>0.278754</td>\n",
       "      <td>0.238705</td>\n",
       "      <td>0.05</td>\n",
       "      <td>0.05</td>\n",
       "      <td>0.750000</td>\n",
       "      <td>0.572837</td>\n",
       "      <td>1</td>\n",
       "      <td>0</td>\n",
       "      <td>1</td>\n",
       "      <td>1</td>\n",
       "      <td>0</td>\n",
       "      <td>0</td>\n",
       "      <td>0</td>\n",
       "      <td>0</td>\n",
       "      <td>0</td>\n",
       "      <td>0</td>\n",
       "      <td>0</td>\n",
       "    </tr>\n",
       "    <tr>\n",
       "      <th>4</th>\n",
       "      <td>4</td>\n",
       "      <td>0.819544</td>\n",
       "      <td>0.652738</td>\n",
       "      <td>0.30</td>\n",
       "      <td>0.30</td>\n",
       "      <td>0.535714</td>\n",
       "      <td>0.572837</td>\n",
       "      <td>0</td>\n",
       "      <td>1</td>\n",
       "      <td>1</td>\n",
       "      <td>0</td>\n",
       "      <td>0</td>\n",
       "      <td>1</td>\n",
       "      <td>0</td>\n",
       "      <td>0</td>\n",
       "      <td>0</td>\n",
       "      <td>0</td>\n",
       "      <td>0</td>\n",
       "    </tr>\n",
       "    <tr>\n",
       "      <th>5</th>\n",
       "      <td>5</td>\n",
       "      <td>0.437751</td>\n",
       "      <td>0.496588</td>\n",
       "      <td>0.20</td>\n",
       "      <td>0.20</td>\n",
       "      <td>0.571429</td>\n",
       "      <td>0.572837</td>\n",
       "      <td>1</td>\n",
       "      <td>1</td>\n",
       "      <td>1</td>\n",
       "      <td>0</td>\n",
       "      <td>0</td>\n",
       "      <td>0</td>\n",
       "      <td>0</td>\n",
       "      <td>0</td>\n",
       "      <td>0</td>\n",
       "      <td>0</td>\n",
       "      <td>1</td>\n",
       "    </tr>\n",
       "    <tr>\n",
       "      <th>6</th>\n",
       "      <td>6</td>\n",
       "      <td>0.292256</td>\n",
       "      <td>0.283792</td>\n",
       "      <td>0.05</td>\n",
       "      <td>0.05</td>\n",
       "      <td>0.321429</td>\n",
       "      <td>0.752625</td>\n",
       "      <td>0</td>\n",
       "      <td>0</td>\n",
       "      <td>1</td>\n",
       "      <td>0</td>\n",
       "      <td>0</td>\n",
       "      <td>0</td>\n",
       "      <td>0</td>\n",
       "      <td>0</td>\n",
       "      <td>0</td>\n",
       "      <td>0</td>\n",
       "      <td>1</td>\n",
       "    </tr>\n",
       "    <tr>\n",
       "      <th>7</th>\n",
       "      <td>7</td>\n",
       "      <td>0.245513</td>\n",
       "      <td>0.215239</td>\n",
       "      <td>0.05</td>\n",
       "      <td>0.05</td>\n",
       "      <td>0.428571</td>\n",
       "      <td>0.430238</td>\n",
       "      <td>1</td>\n",
       "      <td>1</td>\n",
       "      <td>0</td>\n",
       "      <td>0</td>\n",
       "      <td>0</td>\n",
       "      <td>0</td>\n",
       "      <td>1</td>\n",
       "      <td>0</td>\n",
       "      <td>0</td>\n",
       "      <td>0</td>\n",
       "      <td>0</td>\n",
       "    </tr>\n",
       "    <tr>\n",
       "      <th>8</th>\n",
       "      <td>8</td>\n",
       "      <td>0.653213</td>\n",
       "      <td>0.593649</td>\n",
       "      <td>0.20</td>\n",
       "      <td>0.20</td>\n",
       "      <td>0.428571</td>\n",
       "      <td>0.430238</td>\n",
       "      <td>1</td>\n",
       "      <td>1</td>\n",
       "      <td>1</td>\n",
       "      <td>0</td>\n",
       "      <td>0</td>\n",
       "      <td>1</td>\n",
       "      <td>0</td>\n",
       "      <td>0</td>\n",
       "      <td>0</td>\n",
       "      <td>0</td>\n",
       "      <td>0</td>\n",
       "    </tr>\n",
       "    <tr>\n",
       "      <th>9</th>\n",
       "      <td>9</td>\n",
       "      <td>0.447158</td>\n",
       "      <td>0.513548</td>\n",
       "      <td>0.25</td>\n",
       "      <td>0.25</td>\n",
       "      <td>0.692857</td>\n",
       "      <td>0.752625</td>\n",
       "      <td>1</td>\n",
       "      <td>0</td>\n",
       "      <td>1</td>\n",
       "      <td>0</td>\n",
       "      <td>0</td>\n",
       "      <td>0</td>\n",
       "      <td>0</td>\n",
       "      <td>1</td>\n",
       "      <td>0</td>\n",
       "      <td>0</td>\n",
       "      <td>0</td>\n",
       "    </tr>\n",
       "  </tbody>\n",
       "</table>\n",
       "</div>"
      ],
      "text/plain": [
       "   Unnamed: 0     price     totsp  livesp  kitsp      dist  metrdist  walk  \\\n",
       "0           0  0.209515  0.305476    0.05   0.05  0.678571  0.572837     1   \n",
       "1           1  0.176091  0.000000    0.05   0.05  0.750000  0.572837     1   \n",
       "2           2  0.408240  0.347262    0.05   0.05  0.821429  0.254805     1   \n",
       "3           3  0.278754  0.238705    0.05   0.05  0.750000  0.572837     1   \n",
       "4           4  0.819544  0.652738    0.30   0.30  0.535714  0.572837     0   \n",
       "5           5  0.437751  0.496588    0.20   0.20  0.571429  0.572837     1   \n",
       "6           6  0.292256  0.283792    0.05   0.05  0.321429  0.752625     0   \n",
       "7           7  0.245513  0.215239    0.05   0.05  0.428571  0.430238     1   \n",
       "8           8  0.653213  0.593649    0.20   0.20  0.428571  0.430238     1   \n",
       "9           9  0.447158  0.513548    0.25   0.25  0.692857  0.752625     1   \n",
       "\n",
       "   brick  floor  1  2  3  4  5  6  7  8  \n",
       "0      1      1  0  0  1  0  0  0  0  0  \n",
       "1      0      1  0  0  0  0  0  1  0  0  \n",
       "2      1      1  0  0  1  0  0  0  0  0  \n",
       "3      0      1  1  0  0  0  0  0  0  0  \n",
       "4      1      1  0  0  1  0  0  0  0  0  \n",
       "5      1      1  0  0  0  0  0  0  0  1  \n",
       "6      0      1  0  0  0  0  0  0  0  1  \n",
       "7      1      0  0  0  0  1  0  0  0  0  \n",
       "8      1      1  0  0  1  0  0  0  0  0  \n",
       "9      0      1  0  0  0  0  1  0  0  0  "
      ]
     },
     "execution_count": 2,
     "metadata": {},
     "output_type": "execute_result"
    }
   ],
   "source": [
    "# Загрузка подготовленного набора данных\n",
    "dataset = pandas.read_csv('prepared_data.csv') \n",
    "dataset.head(10) # Вывод первых 10 строк"
   ]
  },
  {
   "cell_type": "code",
   "execution_count": 3,
   "metadata": {},
   "outputs": [
    {
     "data": {
      "text/html": [
       "<div>\n",
       "<style scoped>\n",
       "    .dataframe tbody tr th:only-of-type {\n",
       "        vertical-align: middle;\n",
       "    }\n",
       "\n",
       "    .dataframe tbody tr th {\n",
       "        vertical-align: top;\n",
       "    }\n",
       "\n",
       "    .dataframe thead th {\n",
       "        text-align: right;\n",
       "    }\n",
       "</style>\n",
       "<table border=\"1\" class=\"dataframe\">\n",
       "  <thead>\n",
       "    <tr style=\"text-align: right;\">\n",
       "      <th></th>\n",
       "      <th>price</th>\n",
       "      <th>totsp</th>\n",
       "      <th>livesp</th>\n",
       "      <th>kitsp</th>\n",
       "      <th>dist</th>\n",
       "      <th>metrdist</th>\n",
       "    </tr>\n",
       "  </thead>\n",
       "  <tbody>\n",
       "    <tr>\n",
       "      <th>0</th>\n",
       "      <td>0.209515</td>\n",
       "      <td>0.305476</td>\n",
       "      <td>0.05</td>\n",
       "      <td>0.05</td>\n",
       "      <td>0.678571</td>\n",
       "      <td>0.572837</td>\n",
       "    </tr>\n",
       "    <tr>\n",
       "      <th>1</th>\n",
       "      <td>0.176091</td>\n",
       "      <td>0.000000</td>\n",
       "      <td>0.05</td>\n",
       "      <td>0.05</td>\n",
       "      <td>0.750000</td>\n",
       "      <td>0.572837</td>\n",
       "    </tr>\n",
       "    <tr>\n",
       "      <th>2</th>\n",
       "      <td>0.408240</td>\n",
       "      <td>0.347262</td>\n",
       "      <td>0.05</td>\n",
       "      <td>0.05</td>\n",
       "      <td>0.821429</td>\n",
       "      <td>0.254805</td>\n",
       "    </tr>\n",
       "    <tr>\n",
       "      <th>3</th>\n",
       "      <td>0.278754</td>\n",
       "      <td>0.238705</td>\n",
       "      <td>0.05</td>\n",
       "      <td>0.05</td>\n",
       "      <td>0.750000</td>\n",
       "      <td>0.572837</td>\n",
       "    </tr>\n",
       "    <tr>\n",
       "      <th>4</th>\n",
       "      <td>0.819544</td>\n",
       "      <td>0.652738</td>\n",
       "      <td>0.30</td>\n",
       "      <td>0.30</td>\n",
       "      <td>0.535714</td>\n",
       "      <td>0.572837</td>\n",
       "    </tr>\n",
       "    <tr>\n",
       "      <th>5</th>\n",
       "      <td>0.437751</td>\n",
       "      <td>0.496588</td>\n",
       "      <td>0.20</td>\n",
       "      <td>0.20</td>\n",
       "      <td>0.571429</td>\n",
       "      <td>0.572837</td>\n",
       "    </tr>\n",
       "    <tr>\n",
       "      <th>6</th>\n",
       "      <td>0.292256</td>\n",
       "      <td>0.283792</td>\n",
       "      <td>0.05</td>\n",
       "      <td>0.05</td>\n",
       "      <td>0.321429</td>\n",
       "      <td>0.752625</td>\n",
       "    </tr>\n",
       "    <tr>\n",
       "      <th>7</th>\n",
       "      <td>0.245513</td>\n",
       "      <td>0.215239</td>\n",
       "      <td>0.05</td>\n",
       "      <td>0.05</td>\n",
       "      <td>0.428571</td>\n",
       "      <td>0.430238</td>\n",
       "    </tr>\n",
       "    <tr>\n",
       "      <th>8</th>\n",
       "      <td>0.653213</td>\n",
       "      <td>0.593649</td>\n",
       "      <td>0.20</td>\n",
       "      <td>0.20</td>\n",
       "      <td>0.428571</td>\n",
       "      <td>0.430238</td>\n",
       "    </tr>\n",
       "    <tr>\n",
       "      <th>9</th>\n",
       "      <td>0.447158</td>\n",
       "      <td>0.513548</td>\n",
       "      <td>0.25</td>\n",
       "      <td>0.25</td>\n",
       "      <td>0.692857</td>\n",
       "      <td>0.752625</td>\n",
       "    </tr>\n",
       "  </tbody>\n",
       "</table>\n",
       "</div>"
      ],
      "text/plain": [
       "      price     totsp  livesp  kitsp      dist  metrdist\n",
       "0  0.209515  0.305476    0.05   0.05  0.678571  0.572837\n",
       "1  0.176091  0.000000    0.05   0.05  0.750000  0.572837\n",
       "2  0.408240  0.347262    0.05   0.05  0.821429  0.254805\n",
       "3  0.278754  0.238705    0.05   0.05  0.750000  0.572837\n",
       "4  0.819544  0.652738    0.30   0.30  0.535714  0.572837\n",
       "5  0.437751  0.496588    0.20   0.20  0.571429  0.572837\n",
       "6  0.292256  0.283792    0.05   0.05  0.321429  0.752625\n",
       "7  0.245513  0.215239    0.05   0.05  0.428571  0.430238\n",
       "8  0.653213  0.593649    0.20   0.20  0.428571  0.430238\n",
       "9  0.447158  0.513548    0.25   0.25  0.692857  0.752625"
      ]
     },
     "execution_count": 3,
     "metadata": {},
     "output_type": "execute_result"
    }
   ],
   "source": [
    "Xx = dataset.iloc[:, [*range(1,7)]]\n",
    "Xx.head(10)"
   ]
  },
  {
   "cell_type": "code",
   "execution_count": 4,
   "metadata": {},
   "outputs": [],
   "source": [
    "# Выделение входных и выходных параметров:\n",
    "# Выходной параметр - значение столбца обработанного набора данных, соответсвующее столбцу №8 из первоначального набора данных (machine.data.csv).\n",
    "# Входные параметры - все остальные столбцы обработанного набора данных.\n",
    "# Используем .values, чтобы индексы не попали в новые переменные и в дальнейшем не мешали нам, например, при построении графиков.\n",
    "X = dataset.iloc[:, [*range(1,7)]].values\n",
    "Y = dataset['price'].values\n",
    "\n",
    "# Обратите внимание на структуру вашего обработанного файлы и измените индексы, если нужно."
   ]
  },
  {
   "cell_type": "code",
   "execution_count": 5,
   "metadata": {},
   "outputs": [],
   "source": [
    "# Разделение данных на обучающую и тестовую выборки:\n",
    "# Используем метод train_test_split библиотеки sklearn.\n",
    "# Он разделяет заданные массивы входных и выходных параметров на две части каждый.\n",
    "# Значение test_size определяет долю тестовой выборки в исходных данных.\n",
    "X_train, X_test, Y_train, Y_test = train_test_split(X, Y, test_size = 0.2)"
   ]
  },
  {
   "cell_type": "code",
   "execution_count": 6,
   "metadata": {},
   "outputs": [],
   "source": [
    "# Задаем параметры структуры нейронной сети.\n",
    "\n",
    "\n",
    "input_layer_size = 6\n",
    "\n",
    "\n",
    "first_hidden_layer_size = 10\n",
    "second_hidden_layer_size = 5\n",
    "third_hidden_layer_size = 10\n",
    "\n",
    "output_layer_size = 1\n",
    "\n",
    "\n",
    "epochs_number = 100\n",
    "batch_size = 16"
   ]
  },
  {
   "cell_type": "code",
   "execution_count": 7,
   "metadata": {
    "scrolled": false
   },
   "outputs": [],
   "source": [
    "# Создание нейронной сети прямого распространения, пока она пустая, т.е. не содержит слоёв и нейронов.\n",
    "model = Sequential()\n",
    "\n",
    "# Входной слой и первый скрытый слой, функция активации - softmax\n",
    "model.add(Dense(first_hidden_layer_size, input_dim=input_layer_size, activation='softmax'))\n",
    "\n",
    "model.add(Dense(second_hidden_layer_size, activation='softmax'))\n",
    "\n",
    "model.add(Dense(third_hidden_layer_size, activation='softmax'))\n",
    "\n",
    "\n",
    "\n",
    "model.add(Dense(output_layer_size, activation='linear'))"
   ]
  },
  {
   "cell_type": "code",
   "execution_count": 8,
   "metadata": {
    "scrolled": true
   },
   "outputs": [
    {
     "name": "stdout",
     "output_type": "stream",
     "text": [
      "Model: \"sequential_1\"\n",
      "_________________________________________________________________\n",
      "Layer (type)                 Output Shape              Param #   \n",
      "=================================================================\n",
      "dense_1 (Dense)              (None, 10)                70        \n",
      "_________________________________________________________________\n",
      "dense_2 (Dense)              (None, 5)                 55        \n",
      "_________________________________________________________________\n",
      "dense_3 (Dense)              (None, 10)                60        \n",
      "_________________________________________________________________\n",
      "dense_4 (Dense)              (None, 1)                 11        \n",
      "=================================================================\n",
      "Total params: 196\n",
      "Trainable params: 196\n",
      "Non-trainable params: 0\n",
      "_________________________________________________________________\n"
     ]
    }
   ],
   "source": [
    "# Обзор нейронной сети, теперь в ней есть слои и нейроны.\n",
    "# Если внимательно посмотреть на количество параметров, т.е. связей между нейронами, то можно увидеть, что автоматически добавлены нейроны смещения.\n",
    "model.summary()"
   ]
  },
  {
   "cell_type": "code",
   "execution_count": 9,
   "metadata": {
    "scrolled": true
   },
   "outputs": [],
   "source": [
    "# Настройка нейронной сети.\n",
    "# Функция потерь (loss) - среднеквадратическая ошибка.\n",
    "# Оптимизатор (optimizer) - adam (в настоящий момент - это стандартный оптимизатор).\n",
    "# Указываем метрики средняя абсолютная ошибка (mean_absolute_error) и среднеквадратическая ошиба (mean_squared_error) для дальнейшего анализа.\n",
    "model.compile(loss='mean_squared_error', optimizer='adam', metrics=['mean_absolute_error', 'mean_squared_error'])"
   ]
  },
  {
   "cell_type": "code",
   "execution_count": 10,
   "metadata": {
    "scrolled": false
   },
   "outputs": [
    {
     "name": "stdout",
     "output_type": "stream",
     "text": [
      "Train on 1632 samples, validate on 408 samples\n",
      "Epoch 1/100\n",
      "1632/1632 [==============================] - 1s 515us/step - loss: 0.0552 - mean_absolute_error: 0.1886 - mean_squared_error: 0.0552 - val_loss: 0.0268 - val_mean_absolute_error: 0.1208 - val_mean_squared_error: 0.0268\n",
      "Epoch 2/100\n",
      "1632/1632 [==============================] - 0s 216us/step - loss: 0.0206 - mean_absolute_error: 0.1062 - mean_squared_error: 0.0206 - val_loss: 0.0195 - val_mean_absolute_error: 0.1054 - val_mean_squared_error: 0.0195\n",
      "Epoch 3/100\n",
      "1632/1632 [==============================] - 0s 154us/step - loss: 0.0184 - mean_absolute_error: 0.1033 - mean_squared_error: 0.0184 - val_loss: 0.0193 - val_mean_absolute_error: 0.1065 - val_mean_squared_error: 0.0193\n",
      "Epoch 4/100\n",
      "1632/1632 [==============================] - 0s 169us/step - loss: 0.0183 - mean_absolute_error: 0.1036 - mean_squared_error: 0.0183 - val_loss: 0.0193 - val_mean_absolute_error: 0.1069 - val_mean_squared_error: 0.0193\n",
      "Epoch 5/100\n",
      "1632/1632 [==============================] - 0s 180us/step - loss: 0.0183 - mean_absolute_error: 0.1038 - mean_squared_error: 0.0183 - val_loss: 0.0192 - val_mean_absolute_error: 0.1065 - val_mean_squared_error: 0.0192\n",
      "Epoch 6/100\n",
      "1632/1632 [==============================] - 0s 166us/step - loss: 0.0182 - mean_absolute_error: 0.1036 - mean_squared_error: 0.0182 - val_loss: 0.0191 - val_mean_absolute_error: 0.1057 - val_mean_squared_error: 0.0191\n",
      "Epoch 7/100\n",
      "1632/1632 [==============================] - 0s 148us/step - loss: 0.0181 - mean_absolute_error: 0.1028 - mean_squared_error: 0.0181 - val_loss: 0.0190 - val_mean_absolute_error: 0.1057 - val_mean_squared_error: 0.0190\n",
      "Epoch 8/100\n",
      "1632/1632 [==============================] - 0s 172us/step - loss: 0.0179 - mean_absolute_error: 0.1025 - mean_squared_error: 0.0179 - val_loss: 0.0186 - val_mean_absolute_error: 0.1045 - val_mean_squared_error: 0.0186\n",
      "Epoch 9/100\n",
      "1632/1632 [==============================] - 0s 168us/step - loss: 0.0174 - mean_absolute_error: 0.1009 - mean_squared_error: 0.0174 - val_loss: 0.0179 - val_mean_absolute_error: 0.1024 - val_mean_squared_error: 0.0179\n",
      "Epoch 10/100\n",
      "1632/1632 [==============================] - 0s 148us/step - loss: 0.0164 - mean_absolute_error: 0.0976 - mean_squared_error: 0.0164 - val_loss: 0.0165 - val_mean_absolute_error: 0.0971 - val_mean_squared_error: 0.0165\n",
      "Epoch 11/100\n",
      "1632/1632 [==============================] - 0s 164us/step - loss: 0.0145 - mean_absolute_error: 0.0906 - mean_squared_error: 0.0145 - val_loss: 0.0140 - val_mean_absolute_error: 0.0890 - val_mean_squared_error: 0.0140\n",
      "Epoch 12/100\n",
      "1632/1632 [==============================] - 0s 166us/step - loss: 0.0116 - mean_absolute_error: 0.0800 - mean_squared_error: 0.0116 - val_loss: 0.0108 - val_mean_absolute_error: 0.0757 - val_mean_squared_error: 0.0108\n",
      "Epoch 13/100\n",
      "1632/1632 [==============================] - 0s 149us/step - loss: 0.0085 - mean_absolute_error: 0.0661 - mean_squared_error: 0.0085 - val_loss: 0.0079 - val_mean_absolute_error: 0.0644 - val_mean_squared_error: 0.0079\n",
      "Epoch 14/100\n",
      "1632/1632 [==============================] - 0s 159us/step - loss: 0.0064 - mean_absolute_error: 0.0561 - mean_squared_error: 0.0064 - val_loss: 0.0063 - val_mean_absolute_error: 0.0575 - val_mean_squared_error: 0.0063\n",
      "Epoch 15/100\n",
      "1632/1632 [==============================] - 0s 143us/step - loss: 0.0054 - mean_absolute_error: 0.0520 - mean_squared_error: 0.0054 - val_loss: 0.0055 - val_mean_absolute_error: 0.0545 - val_mean_squared_error: 0.0055\n",
      "Epoch 16/100\n",
      "1632/1632 [==============================] - 0s 170us/step - loss: 0.0050 - mean_absolute_error: 0.0503 - mean_squared_error: 0.0050 - val_loss: 0.0050 - val_mean_absolute_error: 0.0527 - val_mean_squared_error: 0.0050\n",
      "Epoch 17/100\n",
      "1632/1632 [==============================] - 0s 144us/step - loss: 0.0046 - mean_absolute_error: 0.0486 - mean_squared_error: 0.0046 - val_loss: 0.0047 - val_mean_absolute_error: 0.0507 - val_mean_squared_error: 0.0047\n",
      "Epoch 18/100\n",
      "1632/1632 [==============================] - 0s 147us/step - loss: 0.0043 - mean_absolute_error: 0.0469 - mean_squared_error: 0.0043 - val_loss: 0.0043 - val_mean_absolute_error: 0.0490 - val_mean_squared_error: 0.0043\n",
      "Epoch 19/100\n",
      "1632/1632 [==============================] - 0s 138us/step - loss: 0.0040 - mean_absolute_error: 0.0456 - mean_squared_error: 0.0040 - val_loss: 0.0040 - val_mean_absolute_error: 0.0471 - val_mean_squared_error: 0.0040\n",
      "Epoch 20/100\n",
      "1632/1632 [==============================] - 0s 147us/step - loss: 0.0037 - mean_absolute_error: 0.0435 - mean_squared_error: 0.0037 - val_loss: 0.0037 - val_mean_absolute_error: 0.0456 - val_mean_squared_error: 0.0037\n",
      "Epoch 21/100\n",
      "1632/1632 [==============================] - 0s 133us/step - loss: 0.0033 - mean_absolute_error: 0.0414 - mean_squared_error: 0.0033 - val_loss: 0.0033 - val_mean_absolute_error: 0.0430 - val_mean_squared_error: 0.0033\n",
      "Epoch 22/100\n",
      "1632/1632 [==============================] - 0s 159us/step - loss: 0.0030 - mean_absolute_error: 0.0395 - mean_squared_error: 0.0030 - val_loss: 0.0030 - val_mean_absolute_error: 0.0407 - val_mean_squared_error: 0.0030\n",
      "Epoch 23/100\n",
      "1632/1632 [==============================] - 0s 138us/step - loss: 0.0027 - mean_absolute_error: 0.0374 - mean_squared_error: 0.0027 - val_loss: 0.0026 - val_mean_absolute_error: 0.0383 - val_mean_squared_error: 0.0026\n",
      "Epoch 24/100\n",
      "1632/1632 [==============================] - 0s 165us/step - loss: 0.0024 - mean_absolute_error: 0.0350 - mean_squared_error: 0.0024 - val_loss: 0.0023 - val_mean_absolute_error: 0.0356 - val_mean_squared_error: 0.0023\n",
      "Epoch 25/100\n",
      "1632/1632 [==============================] - 0s 133us/step - loss: 0.0021 - mean_absolute_error: 0.0326 - mean_squared_error: 0.0021 - val_loss: 0.0020 - val_mean_absolute_error: 0.0329 - val_mean_squared_error: 0.0020\n",
      "Epoch 26/100\n",
      "1632/1632 [==============================] - 0s 159us/step - loss: 0.0018 - mean_absolute_error: 0.0298 - mean_squared_error: 0.0018 - val_loss: 0.0017 - val_mean_absolute_error: 0.0302 - val_mean_squared_error: 0.0017\n",
      "Epoch 27/100\n",
      "1632/1632 [==============================] - 0s 142us/step - loss: 0.0015 - mean_absolute_error: 0.0273 - mean_squared_error: 0.0015 - val_loss: 0.0015 - val_mean_absolute_error: 0.0277 - val_mean_squared_error: 0.0015\n",
      "Epoch 28/100\n",
      "1632/1632 [==============================] - 0s 165us/step - loss: 0.0012 - mean_absolute_error: 0.0248 - mean_squared_error: 0.0012 - val_loss: 0.0012 - val_mean_absolute_error: 0.0251 - val_mean_squared_error: 0.0012\n",
      "Epoch 29/100\n",
      "1632/1632 [==============================] - 0s 134us/step - loss: 0.0010 - mean_absolute_error: 0.0224 - mean_squared_error: 0.0010 - val_loss: 0.0010 - val_mean_absolute_error: 0.0226 - val_mean_squared_error: 0.0010\n",
      "Epoch 30/100\n",
      "1632/1632 [==============================] - 0s 129us/step - loss: 8.5921e-04 - mean_absolute_error: 0.0203 - mean_squared_error: 8.5921e-04 - val_loss: 8.7486e-04 - val_mean_absolute_error: 0.0209 - val_mean_squared_error: 8.7486e-04\n",
      "Epoch 31/100\n",
      "1632/1632 [==============================] - 0s 136us/step - loss: 7.3342e-04 - mean_absolute_error: 0.0186 - mean_squared_error: 7.3342e-04 - val_loss: 7.4480e-04 - val_mean_absolute_error: 0.0191 - val_mean_squared_error: 7.4480e-04\n",
      "Epoch 32/100\n",
      "1632/1632 [==============================] - 0s 159us/step - loss: 6.3856e-04 - mean_absolute_error: 0.0174 - mean_squared_error: 6.3856e-04 - val_loss: 6.5281e-04 - val_mean_absolute_error: 0.0172 - val_mean_squared_error: 6.5281e-04\n",
      "Epoch 33/100\n",
      "1632/1632 [==============================] - 0s 135us/step - loss: 5.6058e-04 - mean_absolute_error: 0.0161 - mean_squared_error: 5.6058e-04 - val_loss: 5.7917e-04 - val_mean_absolute_error: 0.0161 - val_mean_squared_error: 5.7917e-04\n",
      "Epoch 34/100\n",
      "1632/1632 [==============================] - 0s 156us/step - loss: 5.0122e-04 - mean_absolute_error: 0.0151 - mean_squared_error: 5.0122e-04 - val_loss: 5.2142e-04 - val_mean_absolute_error: 0.0156 - val_mean_squared_error: 5.2142e-04\n",
      "Epoch 35/100\n",
      "1632/1632 [==============================] - 0s 143us/step - loss: 4.5780e-04 - mean_absolute_error: 0.0143 - mean_squared_error: 4.5780e-04 - val_loss: 4.6577e-04 - val_mean_absolute_error: 0.0142 - val_mean_squared_error: 4.6577e-04\n",
      "Epoch 36/100\n",
      "1632/1632 [==============================] - 0s 131us/step - loss: 4.2440e-04 - mean_absolute_error: 0.0138 - mean_squared_error: 4.2440e-04 - val_loss: 4.4290e-04 - val_mean_absolute_error: 0.0145 - val_mean_squared_error: 4.4290e-04\n",
      "Epoch 37/100\n",
      "1632/1632 [==============================] - 0s 157us/step - loss: 3.8967e-04 - mean_absolute_error: 0.0132 - mean_squared_error: 3.8967e-04 - val_loss: 3.9690e-04 - val_mean_absolute_error: 0.0133 - val_mean_squared_error: 3.9690e-04\n",
      "Epoch 38/100\n",
      "1632/1632 [==============================] - 0s 140us/step - loss: 3.5959e-04 - mean_absolute_error: 0.0125 - mean_squared_error: 3.5959e-04 - val_loss: 3.6770e-04 - val_mean_absolute_error: 0.0127 - val_mean_squared_error: 3.6770e-04\n",
      "Epoch 39/100\n",
      "1632/1632 [==============================] - 0s 157us/step - loss: 3.4159e-04 - mean_absolute_error: 0.0123 - mean_squared_error: 3.4159e-04 - val_loss: 3.4728e-04 - val_mean_absolute_error: 0.0120 - val_mean_squared_error: 3.4728e-04\n",
      "Epoch 40/100\n",
      "1632/1632 [==============================] - 0s 133us/step - loss: 3.1710e-04 - mean_absolute_error: 0.0117 - mean_squared_error: 3.1710e-04 - val_loss: 3.3176e-04 - val_mean_absolute_error: 0.0115 - val_mean_squared_error: 3.3176e-04\n",
      "Epoch 41/100\n",
      "1632/1632 [==============================] - 0s 140us/step - loss: 3.0759e-04 - mean_absolute_error: 0.0115 - mean_squared_error: 3.0759e-04 - val_loss: 3.2065e-04 - val_mean_absolute_error: 0.0119 - val_mean_squared_error: 3.2065e-04\n",
      "Epoch 42/100\n",
      "1632/1632 [==============================] - 0s 161us/step - loss: 2.9006e-04 - mean_absolute_error: 0.0112 - mean_squared_error: 2.9006e-04 - val_loss: 3.0426e-04 - val_mean_absolute_error: 0.0108 - val_mean_squared_error: 3.0426e-04\n",
      "Epoch 43/100\n",
      "1632/1632 [==============================] - 0s 144us/step - loss: 2.7653e-04 - mean_absolute_error: 0.0108 - mean_squared_error: 2.7653e-04 - val_loss: 2.9265e-04 - val_mean_absolute_error: 0.0112 - val_mean_squared_error: 2.9265e-04\n",
      "Epoch 44/100\n",
      "1632/1632 [==============================] - 0s 152us/step - loss: 2.6556e-04 - mean_absolute_error: 0.0105 - mean_squared_error: 2.6556e-04 - val_loss: 2.8228e-04 - val_mean_absolute_error: 0.0104 - val_mean_squared_error: 2.8228e-04\n",
      "Epoch 45/100\n",
      "1632/1632 [==============================] - 0s 148us/step - loss: 2.5777e-04 - mean_absolute_error: 0.0104 - mean_squared_error: 2.5777e-04 - val_loss: 3.0320e-04 - val_mean_absolute_error: 0.0108 - val_mean_squared_error: 3.0320e-04\n",
      "Epoch 46/100\n",
      "1632/1632 [==============================] - 0s 134us/step - loss: 2.5136e-04 - mean_absolute_error: 0.0103 - mean_squared_error: 2.5136e-04 - val_loss: 2.7650e-04 - val_mean_absolute_error: 0.0103 - val_mean_squared_error: 2.7650e-04\n",
      "Epoch 47/100\n",
      "1632/1632 [==============================] - 0s 155us/step - loss: 2.4356e-04 - mean_absolute_error: 0.0103 - mean_squared_error: 2.4356e-04 - val_loss: 2.6385e-04 - val_mean_absolute_error: 0.0108 - val_mean_squared_error: 2.6385e-04\n",
      "Epoch 48/100\n",
      "1632/1632 [==============================] - 0s 127us/step - loss: 2.3084e-04 - mean_absolute_error: 0.0099 - mean_squared_error: 2.3084e-04 - val_loss: 2.5367e-04 - val_mean_absolute_error: 0.0105 - val_mean_squared_error: 2.5367e-04\n",
      "Epoch 49/100\n",
      "1632/1632 [==============================] - 0s 141us/step - loss: 2.2729e-04 - mean_absolute_error: 0.0098 - mean_squared_error: 2.2729e-04 - val_loss: 2.5151e-04 - val_mean_absolute_error: 0.0107 - val_mean_squared_error: 2.5151e-04\n",
      "Epoch 50/100\n",
      "1632/1632 [==============================] - 0s 152us/step - loss: 2.1553e-04 - mean_absolute_error: 0.0094 - mean_squared_error: 2.1553e-04 - val_loss: 2.4054e-04 - val_mean_absolute_error: 0.0096 - val_mean_squared_error: 2.4054e-04\n",
      "Epoch 51/100\n",
      "1632/1632 [==============================] - 0s 133us/step - loss: 2.1225e-04 - mean_absolute_error: 0.0095 - mean_squared_error: 2.1225e-04 - val_loss: 2.3277e-04 - val_mean_absolute_error: 0.0094 - val_mean_squared_error: 2.3277e-04\n",
      "Epoch 52/100\n",
      "1632/1632 [==============================] - 0s 135us/step - loss: 2.0623e-04 - mean_absolute_error: 0.0092 - mean_squared_error: 2.0623e-04 - val_loss: 2.3967e-04 - val_mean_absolute_error: 0.0096 - val_mean_squared_error: 2.3967e-04\n",
      "Epoch 53/100\n",
      "1632/1632 [==============================] - 0s 164us/step - loss: 1.9796e-04 - mean_absolute_error: 0.0091 - mean_squared_error: 1.9796e-04 - val_loss: 2.1911e-04 - val_mean_absolute_error: 0.0099 - val_mean_squared_error: 2.1911e-04\n",
      "Epoch 54/100\n",
      "1632/1632 [==============================] - 0s 138us/step - loss: 1.9394e-04 - mean_absolute_error: 0.0091 - mean_squared_error: 1.9394e-04 - val_loss: 2.1168e-04 - val_mean_absolute_error: 0.0090 - val_mean_squared_error: 2.1168e-04\n",
      "Epoch 55/100\n",
      "1632/1632 [==============================] - 0s 157us/step - loss: 1.8965e-04 - mean_absolute_error: 0.0089 - mean_squared_error: 1.8965e-04 - val_loss: 2.0546e-04 - val_mean_absolute_error: 0.0088 - val_mean_squared_error: 2.0546e-04\n",
      "Epoch 56/100\n",
      "1632/1632 [==============================] - 0s 124us/step - loss: 1.8400e-04 - mean_absolute_error: 0.0088 - mean_squared_error: 1.8400e-04 - val_loss: 2.1515e-04 - val_mean_absolute_error: 0.0103 - val_mean_squared_error: 2.1515e-04\n",
      "Epoch 57/100\n",
      "1632/1632 [==============================] - 0s 135us/step - loss: 1.7659e-04 - mean_absolute_error: 0.0085 - mean_squared_error: 1.7659e-04 - val_loss: 1.9259e-04 - val_mean_absolute_error: 0.0088 - val_mean_squared_error: 1.9259e-04\n",
      "Epoch 58/100\n",
      "1632/1632 [==============================] - 0s 135us/step - loss: 1.7132e-04 - mean_absolute_error: 0.0084 - mean_squared_error: 1.7132e-04 - val_loss: 2.0816e-04 - val_mean_absolute_error: 0.0088 - val_mean_squared_error: 2.0816e-04\n",
      "Epoch 59/100\n",
      "1632/1632 [==============================] - 0s 150us/step - loss: 1.6856e-04 - mean_absolute_error: 0.0085 - mean_squared_error: 1.6856e-04 - val_loss: 1.8877e-04 - val_mean_absolute_error: 0.0094 - val_mean_squared_error: 1.8877e-04\n",
      "Epoch 60/100\n",
      "1632/1632 [==============================] - 0s 138us/step - loss: 1.6520e-04 - mean_absolute_error: 0.0085 - mean_squared_error: 1.6520e-04 - val_loss: 1.7712e-04 - val_mean_absolute_error: 0.0084 - val_mean_squared_error: 1.7712e-04\n",
      "Epoch 61/100\n",
      "1632/1632 [==============================] - 0s 138us/step - loss: 1.5789e-04 - mean_absolute_error: 0.0081 - mean_squared_error: 1.5789e-04 - val_loss: 1.7712e-04 - val_mean_absolute_error: 0.0082 - val_mean_squared_error: 1.7712e-04\n",
      "Epoch 62/100\n",
      "1632/1632 [==============================] - 0s 153us/step - loss: 1.4958e-04 - mean_absolute_error: 0.0080 - mean_squared_error: 1.4958e-04 - val_loss: 1.7130e-04 - val_mean_absolute_error: 0.0079 - val_mean_squared_error: 1.7130e-04\n",
      "Epoch 63/100\n",
      "1632/1632 [==============================] - 0s 139us/step - loss: 1.4787e-04 - mean_absolute_error: 0.0079 - mean_squared_error: 1.4787e-04 - val_loss: 1.6919e-04 - val_mean_absolute_error: 0.0078 - val_mean_squared_error: 1.6919e-04\n",
      "Epoch 64/100\n",
      "1632/1632 [==============================] - 0s 125us/step - loss: 1.4214e-04 - mean_absolute_error: 0.0077 - mean_squared_error: 1.4214e-04 - val_loss: 1.5611e-04 - val_mean_absolute_error: 0.0078 - val_mean_squared_error: 1.5611e-04\n",
      "Epoch 65/100\n",
      "1632/1632 [==============================] - 0s 164us/step - loss: 1.4260e-04 - mean_absolute_error: 0.0078 - mean_squared_error: 1.4260e-04 - val_loss: 1.6189e-04 - val_mean_absolute_error: 0.0077 - val_mean_squared_error: 1.6189e-04\n",
      "Epoch 66/100\n",
      "1632/1632 [==============================] - 0s 144us/step - loss: 1.3722e-04 - mean_absolute_error: 0.0077 - mean_squared_error: 1.3722e-04 - val_loss: 1.6125e-04 - val_mean_absolute_error: 0.0078 - val_mean_squared_error: 1.6125e-04\n",
      "Epoch 67/100\n",
      "1632/1632 [==============================] - 0s 159us/step - loss: 1.3215e-04 - mean_absolute_error: 0.0075 - mean_squared_error: 1.3215e-04 - val_loss: 1.6401e-04 - val_mean_absolute_error: 0.0079 - val_mean_squared_error: 1.6401e-04\n",
      "Epoch 68/100\n",
      "1632/1632 [==============================] - 0s 131us/step - loss: 1.2538e-04 - mean_absolute_error: 0.0072 - mean_squared_error: 1.2538e-04 - val_loss: 1.3853e-04 - val_mean_absolute_error: 0.0071 - val_mean_squared_error: 1.3853e-04\n",
      "Epoch 69/100\n",
      "1632/1632 [==============================] - 0s 138us/step - loss: 1.2090e-04 - mean_absolute_error: 0.0071 - mean_squared_error: 1.2090e-04 - val_loss: 1.3422e-04 - val_mean_absolute_error: 0.0071 - val_mean_squared_error: 1.3422e-04\n",
      "Epoch 70/100\n",
      "1632/1632 [==============================] - 0s 154us/step - loss: 1.1624e-04 - mean_absolute_error: 0.0070 - mean_squared_error: 1.1624e-04 - val_loss: 1.3636e-04 - val_mean_absolute_error: 0.0069 - val_mean_squared_error: 1.3636e-04\n",
      "Epoch 71/100\n",
      "1632/1632 [==============================] - 0s 134us/step - loss: 1.1802e-04 - mean_absolute_error: 0.0071 - mean_squared_error: 1.1802e-04 - val_loss: 1.5187e-04 - val_mean_absolute_error: 0.0077 - val_mean_squared_error: 1.5187e-04\n",
      "Epoch 72/100\n",
      "1632/1632 [==============================] - 0s 135us/step - loss: 1.1169e-04 - mean_absolute_error: 0.0068 - mean_squared_error: 1.1169e-04 - val_loss: 1.2189e-04 - val_mean_absolute_error: 0.0068 - val_mean_squared_error: 1.2189e-04\n",
      "Epoch 73/100\n",
      "1632/1632 [==============================] - 0s 156us/step - loss: 1.0585e-04 - mean_absolute_error: 0.0066 - mean_squared_error: 1.0585e-04 - val_loss: 1.2433e-04 - val_mean_absolute_error: 0.0066 - val_mean_squared_error: 1.2433e-04\n",
      "Epoch 74/100\n",
      "1632/1632 [==============================] - 0s 139us/step - loss: 1.0963e-04 - mean_absolute_error: 0.0069 - mean_squared_error: 1.0963e-04 - val_loss: 1.4283e-04 - val_mean_absolute_error: 0.0076 - val_mean_squared_error: 1.4283e-04\n",
      "Epoch 75/100\n",
      "1632/1632 [==============================] - 0s 134us/step - loss: 1.0140e-04 - mean_absolute_error: 0.0066 - mean_squared_error: 1.0140e-04 - val_loss: 1.1030e-04 - val_mean_absolute_error: 0.0067 - val_mean_squared_error: 1.1030e-04\n",
      "Epoch 76/100\n",
      "1632/1632 [==============================] - 0s 155us/step - loss: 9.8432e-05 - mean_absolute_error: 0.0065 - mean_squared_error: 9.8432e-05 - val_loss: 1.0527e-04 - val_mean_absolute_error: 0.0064 - val_mean_squared_error: 1.0527e-04\n",
      "Epoch 77/100\n",
      "1632/1632 [==============================] - 0s 147us/step - loss: 9.4554e-05 - mean_absolute_error: 0.0062 - mean_squared_error: 9.4554e-05 - val_loss: 1.0534e-04 - val_mean_absolute_error: 0.0063 - val_mean_squared_error: 1.0534e-04\n",
      "Epoch 78/100\n",
      "1632/1632 [==============================] - 0s 148us/step - loss: 9.3233e-05 - mean_absolute_error: 0.0063 - mean_squared_error: 9.3233e-05 - val_loss: 1.1026e-04 - val_mean_absolute_error: 0.0062 - val_mean_squared_error: 1.1026e-04\n",
      "Epoch 79/100\n",
      "1632/1632 [==============================] - 0s 143us/step - loss: 9.2559e-05 - mean_absolute_error: 0.0063 - mean_squared_error: 9.2559e-05 - val_loss: 1.1097e-04 - val_mean_absolute_error: 0.0064 - val_mean_squared_error: 1.1097e-04\n",
      "Epoch 80/100\n",
      "1632/1632 [==============================] - 0s 132us/step - loss: 8.5908e-05 - mean_absolute_error: 0.0059 - mean_squared_error: 8.5908e-05 - val_loss: 9.6956e-05 - val_mean_absolute_error: 0.0057 - val_mean_squared_error: 9.6956e-05\n",
      "Epoch 81/100\n",
      "1632/1632 [==============================] - 0s 152us/step - loss: 7.9616e-05 - mean_absolute_error: 0.0057 - mean_squared_error: 7.9616e-05 - val_loss: 1.0564e-04 - val_mean_absolute_error: 0.0063 - val_mean_squared_error: 1.0564e-04\n",
      "Epoch 82/100\n",
      "1632/1632 [==============================] - 0s 129us/step - loss: 7.9999e-05 - mean_absolute_error: 0.0058 - mean_squared_error: 7.9999e-05 - val_loss: 1.0391e-04 - val_mean_absolute_error: 0.0063 - val_mean_squared_error: 1.0391e-04\n",
      "Epoch 83/100\n",
      "1632/1632 [==============================] - 0s 138us/step - loss: 8.0542e-05 - mean_absolute_error: 0.0059 - mean_squared_error: 8.0542e-05 - val_loss: 8.3394e-05 - val_mean_absolute_error: 0.0055 - val_mean_squared_error: 8.3394e-05\n",
      "Epoch 84/100\n",
      "1632/1632 [==============================] - 0s 123us/step - loss: 7.4406e-05 - mean_absolute_error: 0.0055 - mean_squared_error: 7.4406e-05 - val_loss: 8.1254e-05 - val_mean_absolute_error: 0.0055 - val_mean_squared_error: 8.1254e-05\n",
      "Epoch 85/100\n",
      "1632/1632 [==============================] - 0s 132us/step - loss: 7.2721e-05 - mean_absolute_error: 0.0055 - mean_squared_error: 7.2721e-05 - val_loss: 8.0909e-05 - val_mean_absolute_error: 0.0052 - val_mean_squared_error: 8.0909e-05\n",
      "Epoch 86/100\n",
      "1632/1632 [==============================] - 0s 128us/step - loss: 7.0085e-05 - mean_absolute_error: 0.0053 - mean_squared_error: 7.0085e-05 - val_loss: 7.8618e-05 - val_mean_absolute_error: 0.0057 - val_mean_squared_error: 7.8619e-05\n",
      "Epoch 87/100\n",
      "1632/1632 [==============================] - 0s 144us/step - loss: 6.7971e-05 - mean_absolute_error: 0.0053 - mean_squared_error: 6.7971e-05 - val_loss: 7.9600e-05 - val_mean_absolute_error: 0.0055 - val_mean_squared_error: 7.9600e-05\n",
      "Epoch 88/100\n",
      "1632/1632 [==============================] - 0s 148us/step - loss: 6.8549e-05 - mean_absolute_error: 0.0053 - mean_squared_error: 6.8549e-05 - val_loss: 7.2102e-05 - val_mean_absolute_error: 0.0054 - val_mean_squared_error: 7.2102e-05\n",
      "Epoch 89/100\n",
      "1632/1632 [==============================] - 0s 163us/step - loss: 6.2155e-05 - mean_absolute_error: 0.0050 - mean_squared_error: 6.2155e-05 - val_loss: 6.9220e-05 - val_mean_absolute_error: 0.0049 - val_mean_squared_error: 6.9220e-05\n",
      "Epoch 90/100\n",
      "1632/1632 [==============================] - 0s 149us/step - loss: 6.2686e-05 - mean_absolute_error: 0.0051 - mean_squared_error: 6.2686e-05 - val_loss: 6.6570e-05 - val_mean_absolute_error: 0.0049 - val_mean_squared_error: 6.6570e-05\n",
      "Epoch 91/100\n",
      "1632/1632 [==============================] - 0s 159us/step - loss: 6.0166e-05 - mean_absolute_error: 0.0049 - mean_squared_error: 6.0166e-05 - val_loss: 6.6032e-05 - val_mean_absolute_error: 0.0052 - val_mean_squared_error: 6.6032e-05\n",
      "Epoch 92/100\n",
      "1632/1632 [==============================] - 0s 167us/step - loss: 6.0947e-05 - mean_absolute_error: 0.0049 - mean_squared_error: 6.0947e-05 - val_loss: 6.3588e-05 - val_mean_absolute_error: 0.0047 - val_mean_squared_error: 6.3588e-05\n",
      "Epoch 93/100\n",
      "1632/1632 [==============================] - 0s 149us/step - loss: 5.4084e-05 - mean_absolute_error: 0.0045 - mean_squared_error: 5.4084e-05 - val_loss: 7.0645e-05 - val_mean_absolute_error: 0.0050 - val_mean_squared_error: 7.0644e-05\n",
      "Epoch 94/100\n",
      "1632/1632 [==============================] - 0s 157us/step - loss: 5.6519e-05 - mean_absolute_error: 0.0048 - mean_squared_error: 5.6519e-05 - val_loss: 6.2184e-05 - val_mean_absolute_error: 0.0054 - val_mean_squared_error: 6.2184e-05\n",
      "Epoch 95/100\n",
      "1632/1632 [==============================] - 0s 147us/step - loss: 5.1587e-05 - mean_absolute_error: 0.0046 - mean_squared_error: 5.1587e-05 - val_loss: 5.6176e-05 - val_mean_absolute_error: 0.0046 - val_mean_squared_error: 5.6176e-05\n",
      "Epoch 96/100\n",
      "1632/1632 [==============================] - 0s 177us/step - loss: 4.9458e-05 - mean_absolute_error: 0.0043 - mean_squared_error: 4.9458e-05 - val_loss: 5.4539e-05 - val_mean_absolute_error: 0.0044 - val_mean_squared_error: 5.4539e-05\n",
      "Epoch 97/100\n",
      "1632/1632 [==============================] - 0s 160us/step - loss: 4.9001e-05 - mean_absolute_error: 0.0044 - mean_squared_error: 4.9001e-05 - val_loss: 5.2665e-05 - val_mean_absolute_error: 0.0044 - val_mean_squared_error: 5.2665e-05\n",
      "Epoch 98/100\n",
      "1632/1632 [==============================] - 0s 136us/step - loss: 4.6626e-05 - mean_absolute_error: 0.0043 - mean_squared_error: 4.6626e-05 - val_loss: 5.1047e-05 - val_mean_absolute_error: 0.0045 - val_mean_squared_error: 5.1047e-05\n",
      "Epoch 99/100\n",
      "1632/1632 [==============================] - 0s 142us/step - loss: 4.7081e-05 - mean_absolute_error: 0.0043 - mean_squared_error: 4.7081e-05 - val_loss: 5.9002e-05 - val_mean_absolute_error: 0.0046 - val_mean_squared_error: 5.9002e-05\n",
      "Epoch 100/100\n",
      "1632/1632 [==============================] - ETA: 0s - loss: 4.6724e-05 - mean_absolute_error: 0.0042 - mean_squared_error: 4.6724e- - 0s 123us/step - loss: 4.4192e-05 - mean_absolute_error: 0.0042 - mean_squared_error: 4.4192e-05 - val_loss: 4.8894e-05 - val_mean_absolute_error: 0.0040 - val_mean_squared_error: 4.8894e-05\n"
     ]
    }
   ],
   "source": [
    "# Обучение нейронной сети.\n",
    "# На вход передаем обучающие и тестовые выборки, количество эпох и размер батча.\n",
    "# На выходе получаем объект с историей обучения, который далее будем анализировать.\n",
    "history = model.fit(X_train, Y_train, validation_data = (X_test,Y_test), epochs=epochs_number, batch_size=batch_size)"
   ]
  },
  {
   "cell_type": "code",
   "execution_count": 11,
   "metadata": {},
   "outputs": [
    {
     "data": {
      "image/png": "[encoded data removed]",
      "text/plain": [
       "<Figure size 432x288 with 1 Axes>"
      ]
     },
     "metadata": {
      "needs_background": "light"
     },
     "output_type": "display_data"
    }
   ],
   "source": [
    "# Выводим динамику среднего абсолютного отклонения от номера эпохи обучения.\n",
    "plt.plot(history.history['mean_absolute_error'])\n",
    "plt.plot(history.history['val_mean_absolute_error']) \n",
    "plt.title('Model MAE') \n",
    "plt.ylabel('MAE') \n",
    "plt.xlabel('Epoch') \n",
    "plt.legend(['Train', 'Test'], loc='upper right') \n",
    "plt.show()"
   ]
  },
  {
   "cell_type": "code",
   "execution_count": 12,
   "metadata": {},
   "outputs": [
    {
     "data": {
      "image/png": "[encoded data removed]",
      "text/plain": [
       "<Figure size 432x288 with 1 Axes>"
      ]
     },
     "metadata": {
      "needs_background": "light"
     },
     "output_type": "display_data"
    }
   ],
   "source": [
    "# Выводим динамику среднеквадратического отклонения, т.е. значения функции потерь, от номера эпохи обучения.\n",
    "# Видно, что в процессе обучения сеть с каждой эпохой вычисляет всё более точные прогнозы значений Y.\n",
    "plt.plot(history.history['mean_squared_error'])\n",
    "plt.plot(history.history['val_mean_squared_error']) \n",
    "plt.title('Model MSE') \n",
    "plt.ylabel('MSE') \n",
    "plt.xlabel('Epoch') \n",
    "plt.legend(['Train', 'Test'], loc='upper right') \n",
    "plt.show()"
   ]
  },
  {
   "cell_type": "code",
   "execution_count": 13,
   "metadata": {},
   "outputs": [],
   "source": [
    "# Предсказание уже обученной нейронной сети на обучающей выборке:\n",
    "Y_pred_train = model.predict(X_train).flatten()"
   ]
  },
  {
   "cell_type": "code",
   "execution_count": 14,
   "metadata": {},
   "outputs": [
    {
     "data": {
      "image/png": "[encoded data removed]",
      "text/plain": [
       "<Figure size 432x288 with 1 Axes>"
      ]
     },
     "metadata": {
      "needs_background": "light"
     },
     "output_type": "display_data"
    }
   ],
   "source": [
    "# Сравним эталонные значения Y_train и результат работы обученной нейронной сети Y_pred_train для обучающей выборки.\n",
    "# В идеальной ситуации они должны совпадать, т.е. точки (Y_train[i], Y_pred_train[i]) должны лежать на прямой Y_train = Y_pred_train.\n",
    "plt.plot(Y_train, Y_pred_train, 'bo')\n",
    "plt.plot([0,1], [0,1], 'r-')\n",
    "plt.title('Test vs Pred_test') \n",
    "plt.ylabel('Pred_test') \n",
    "plt.xlabel('Test') \n",
    "plt.show()"
   ]
  },
  {
   "cell_type": "code",
   "execution_count": 15,
   "metadata": {},
   "outputs": [
    {
     "data": {
      "image/png": "[encoded data removed]",
      "text/plain": [
       "<Figure size 432x288 with 1 Axes>"
      ]
     },
     "metadata": {
      "needs_background": "light"
     },
     "output_type": "display_data"
    }
   ],
   "source": [
    "# Выведем сами значения Y_train и Y_pred_train.\n",
    "plt.plot(Y_train)\n",
    "plt.plot(Y_pred_train)\n",
    "plt.show()"
   ]
  },
  {
   "cell_type": "code",
   "execution_count": 16,
   "metadata": {},
   "outputs": [],
   "source": [
    "# Таким образом, обучение по обучающей выборке проведено.\n",
    "# Теперь проверим работу нейроной сети на тестовой выборке.\n",
    "\n",
    "# Предсказание обученной нейронной сети на тестовой выборке:\n",
    "Y_pred_test = model.predict(X_test).flatten()"
   ]
  },
  {
   "cell_type": "code",
   "execution_count": 17,
   "metadata": {
    "scrolled": true
   },
   "outputs": [
    {
     "data": {
      "image/png": "[encoded data removed]",
      "text/plain": [
       "<Figure size 432x288 with 1 Axes>"
      ]
     },
     "metadata": {
      "needs_background": "light"
     },
     "output_type": "display_data"
    }
   ],
   "source": [
    "# Сравним эталонные значения Y_test и результат работы обученной нейронной сети Y_pred_test для тестовой выборки.\n",
    "plt.plot(Y_test, Y_pred_test, 'bo')\n",
    "plt.plot([0,1], [0,1], 'r-')\n",
    "plt.title('Test vs Pred_test') \n",
    "plt.ylabel('Pred_test') \n",
    "plt.xlabel('Test') \n",
    "plt.show()"
   ]
  },
  {
   "cell_type": "code",
   "execution_count": 18,
   "metadata": {
    "scrolled": false
   },
   "outputs": [
    {
     "data": {
      "image/png": "[encoded data removed]",
      "text/plain": [
       "<Figure size 432x288 with 1 Axes>"
      ]
     },
     "metadata": {
      "needs_background": "light"
     },
     "output_type": "display_data"
    }
   ],
   "source": [
    "# Выведем сами значения Y_test и Y_pred_test.\n",
    "plt.plot(Y_test)\n",
    "plt.plot(Y_pred_test)\n",
    "plt.show()"
   ]
  },
  {
   "cell_type": "code",
   "execution_count": 19,
   "metadata": {},
   "outputs": [
    {
     "name": "stdout",
     "output_type": "stream",
     "text": [
      "0.006391469823990244\n",
      "0.00699244137051472\n"
     ]
    }
   ],
   "source": [
    "# Итого, качество работы нейронной сети на тестовых данных ниже, чем на обучающих - это ожидаемо.\n",
    "# Тем не менее, нейронная сеть способна найти зависимости и предсказвать значение Y по X с приемлемым уровенм точности.\n",
    "\n",
    "# Сравним среднеквадратичные ошибки (значения функции потерь) для обучающей и тестовой выборок.\n",
    "print(numpy.sqrt(mean_squared_error(Y_train, Y_pred_train)))\n",
    "print(numpy.sqrt(mean_squared_error(Y_test, Y_pred_test)))"
   ]
  },
  {
   "cell_type": "code",
   "execution_count": 20,
   "metadata": {},
   "outputs": [
    {
     "name": "stdout",
     "output_type": "stream",
     "text": [
      "Train k = 0.7491748332977295, p = 2.6624670822171524e-44\n",
      "Test k = 0.7271342277526855, p = 2.612526866159922e-25\n"
     ]
    }
   ],
   "source": [
    "# Проверим на нормальное распределение разности пар (Y_train, Y_pred_train), (Y_test, Y_pred_test)\n",
    "# Для этого используем библиотеку scipy и метод stats.shapiro.\n",
    "k_train, p_train = stats.shapiro(Y_train - Y_pred_train)\n",
    "print('Train k = {0}, p = {1}'.format(k_train, p_train))\n",
    "\n",
    "k_test, p_test = stats.shapiro(Y_test - Y_pred_test)\n",
    "print('Test k = {0}, p = {1}'.format(k_test, p_test))"
   ]
  },
  {
   "cell_type": "code",
   "execution_count": 21,
   "metadata": {},
   "outputs": [
    {
     "name": "stdout",
     "output_type": "stream",
     "text": [
      "k_s = 0.7445361614227295, p_s = 0.0\n",
      "k_n = 836.6610053343808, p_n = 2.0959025199627188e-182\n"
     ]
    }
   ],
   "source": [
    "# Для полной выборки (Y, Y_pred) применим два статистических теста: shapiro и normaltest.\n",
    "Y_pred = model.predict(X).flatten()\n",
    "\n",
    "k_s, p_s = stats.shapiro(Y - Y_pred)\n",
    "print('k_s = {0}, p_s = {1}'.format(k_s, p_s))\n",
    "\n",
    "k_n, p_n = stats.normaltest(Y - Y_pred)\n",
    "print('k_n = {0}, p_n = {1}'.format(k_n, p_n))"
   ]
  },
  {
   "cell_type": "code",
   "execution_count": 22,
   "metadata": {
    "scrolled": true
   },
   "outputs": [
    {
     "data": {
      "image/png": "[encoded data removed]",
      "text/plain": [
       "<Figure size 432x288 with 1 Axes>"
      ]
     },
     "metadata": {
      "needs_background": "light"
     },
     "output_type": "display_data"
    }
   ],
   "source": [
    "# И тоже самое визуально, с помощью грфиков квантиль-квантиль.\n",
    "# Обучающая выборка\n",
    "qqplot(Y_train - Y_pred_train)\n",
    "plt.show()"
   ]
  },
  {
   "cell_type": "code",
   "execution_count": 23,
   "metadata": {
    "scrolled": true
   },
   "outputs": [
    {
     "data": {
      "image/png": "[encoded data removed]",
      "text/plain": [
       "<Figure size 432x288 with 1 Axes>"
      ]
     },
     "metadata": {
      "needs_background": "light"
     },
     "output_type": "display_data"
    }
   ],
   "source": [
    "# Тестовая выборка\n",
    "qqplot(Y_test - Y_pred_test)\n",
    "plt.show()"
   ]
  },
  {
   "cell_type": "code",
   "execution_count": 24,
   "metadata": {
    "scrolled": true
   },
   "outputs": [
    {
     "data": {
      "image/png": "[encoded data removed]",
      "text/plain": [
       "<Figure size 432x288 with 1 Axes>"
      ]
     },
     "metadata": {
      "needs_background": "light"
     },
     "output_type": "display_data"
    }
   ],
   "source": [
    "# Полная выборка\n",
    "qqplot(Y - Y_pred)\n",
    "plt.show()"
   ]
  },
  {
   "cell_type": "code",
   "execution_count": 25,
   "metadata": {},
   "outputs": [
    {
     "data": {
      "image/png": "[encoded data removed]",
      "text/plain": [
       "<Figure size 432x288 with 1 Axes>"
      ]
     },
     "metadata": {
      "needs_background": "light"
     },
     "output_type": "display_data"
    }
   ],
   "source": [
    "# Можо также визульно убедиться, что распределения \"почти нормальное\".\n",
    "plt.hist(Y - Y_pred, bins=50)\n",
    "plt.show()"
   ]
  },
  {
   "cell_type": "code",
   "execution_count": 26,
   "metadata": {},
   "outputs": [],
   "source": [
    "# Сохраним обученную нейронную сеть, название файла можно выбрать любое, расширение - h5.\n",
    "model.save('SimpleNeuralNetwork.h5')"
   ]
  }
 ],
 "metadata": {
  "kernelspec": {
   "display_name": "Python 3",
   "language": "python",
   "name": "python3"
  },
  "language_info": {
   "codemirror_mode": {
    "name": "ipython",
    "version": 3
   },
   "file_extension": ".py",
   "mimetype": "text/x-python",
   "name": "python",
   "nbconvert_exporter": "python",
   "pygments_lexer": "ipython3",
   "version": "3.7.6"
  }
 },
 "nbformat": 4,
 "nbformat_minor": 2
}
