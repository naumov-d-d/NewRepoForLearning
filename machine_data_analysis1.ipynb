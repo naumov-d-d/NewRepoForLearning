{
 "cells": [
  {
   "cell_type": "code",
   "execution_count": 1,
   "metadata": {
    "scrolled": false
   },
   "outputs": [
    {
     "name": "stderr",
     "output_type": "stream",
     "text": [
      "Using TensorFlow backend.\n"
     ]
    }
   ],
   "source": [
    "# Загрузка зависимостей\n",
    "import numpy\n",
    "import pandas\n",
    "import matplotlib.pyplot as plt\n",
    "import keras\n",
    "from keras.models import Sequential\n",
    "from keras.layers import Dense\n",
    "from sklearn.preprocessing import StandardScaler\n",
    "from sklearn.preprocessing import MinMaxScaler\n",
    "from sklearn.model_selection import train_test_split\n",
    "from sklearn.metrics import mean_squared_error\n",
    "from scipy import stats\n",
    "from statsmodels.graphics.gofplots import qqplot"
   ]
  },
  {
   "cell_type": "code",
   "execution_count": 2,
   "metadata": {
    "scrolled": true
   },
   "outputs": [
    {
     "data": {
      "text/html": [
       "<div>\n",
       "<style scoped>\n",
       "    .dataframe tbody tr th:only-of-type {\n",
       "        vertical-align: middle;\n",
       "    }\n",
       "\n",
       "    .dataframe tbody tr th {\n",
       "        vertical-align: top;\n",
       "    }\n",
       "\n",
       "    .dataframe thead th {\n",
       "        text-align: right;\n",
       "    }\n",
       "</style>\n",
       "<table border=\"1\" class=\"dataframe\">\n",
       "  <thead>\n",
       "    <tr style=\"text-align: right;\">\n",
       "      <th></th>\n",
       "      <th>Unnamed: 0</th>\n",
       "      <th>price</th>\n",
       "      <th>totsp</th>\n",
       "      <th>livesp</th>\n",
       "      <th>kitsp</th>\n",
       "      <th>dist</th>\n",
       "      <th>metrdist</th>\n",
       "      <th>walk</th>\n",
       "      <th>brick</th>\n",
       "      <th>floor</th>\n",
       "      <th>1</th>\n",
       "      <th>2</th>\n",
       "      <th>3</th>\n",
       "      <th>4</th>\n",
       "      <th>5</th>\n",
       "      <th>6</th>\n",
       "      <th>7</th>\n",
       "      <th>8</th>\n",
       "    </tr>\n",
       "  </thead>\n",
       "  <tbody>\n",
       "    <tr>\n",
       "      <th>0</th>\n",
       "      <td>0</td>\n",
       "      <td>0.209515</td>\n",
       "      <td>0.305476</td>\n",
       "      <td>0.05</td>\n",
       "      <td>0.05</td>\n",
       "      <td>0.678571</td>\n",
       "      <td>0.572837</td>\n",
       "      <td>1</td>\n",
       "      <td>1</td>\n",
       "      <td>1</td>\n",
       "      <td>0</td>\n",
       "      <td>0</td>\n",
       "      <td>1</td>\n",
       "      <td>0</td>\n",
       "      <td>0</td>\n",
       "      <td>0</td>\n",
       "      <td>0</td>\n",
       "      <td>0</td>\n",
       "    </tr>\n",
       "    <tr>\n",
       "      <th>1</th>\n",
       "      <td>1</td>\n",
       "      <td>0.176091</td>\n",
       "      <td>0.000000</td>\n",
       "      <td>0.05</td>\n",
       "      <td>0.05</td>\n",
       "      <td>0.750000</td>\n",
       "      <td>0.572837</td>\n",
       "      <td>1</td>\n",
       "      <td>0</td>\n",
       "      <td>1</td>\n",
       "      <td>0</td>\n",
       "      <td>0</td>\n",
       "      <td>0</td>\n",
       "      <td>0</td>\n",
       "      <td>0</td>\n",
       "      <td>1</td>\n",
       "      <td>0</td>\n",
       "      <td>0</td>\n",
       "    </tr>\n",
       "    <tr>\n",
       "      <th>2</th>\n",
       "      <td>2</td>\n",
       "      <td>0.408240</td>\n",
       "      <td>0.347262</td>\n",
       "      <td>0.05</td>\n",
       "      <td>0.05</td>\n",
       "      <td>0.821429</td>\n",
       "      <td>0.254805</td>\n",
       "      <td>1</td>\n",
       "      <td>1</td>\n",
       "      <td>1</td>\n",
       "      <td>0</td>\n",
       "      <td>0</td>\n",
       "      <td>1</td>\n",
       "      <td>0</td>\n",
       "      <td>0</td>\n",
       "      <td>0</td>\n",
       "      <td>0</td>\n",
       "      <td>0</td>\n",
       "    </tr>\n",
       "    <tr>\n",
       "      <th>3</th>\n",
       "      <td>3</td>\n",
       "      <td>0.278754</td>\n",
       "      <td>0.238705</td>\n",
       "      <td>0.05</td>\n",
       "      <td>0.05</td>\n",
       "      <td>0.750000</td>\n",
       "      <td>0.572837</td>\n",
       "      <td>1</td>\n",
       "      <td>0</td>\n",
       "      <td>1</td>\n",
       "      <td>1</td>\n",
       "      <td>0</td>\n",
       "      <td>0</td>\n",
       "      <td>0</td>\n",
       "      <td>0</td>\n",
       "      <td>0</td>\n",
       "      <td>0</td>\n",
       "      <td>0</td>\n",
       "    </tr>\n",
       "    <tr>\n",
       "      <th>4</th>\n",
       "      <td>4</td>\n",
       "      <td>0.819544</td>\n",
       "      <td>0.652738</td>\n",
       "      <td>0.30</td>\n",
       "      <td>0.30</td>\n",
       "      <td>0.535714</td>\n",
       "      <td>0.572837</td>\n",
       "      <td>0</td>\n",
       "      <td>1</td>\n",
       "      <td>1</td>\n",
       "      <td>0</td>\n",
       "      <td>0</td>\n",
       "      <td>1</td>\n",
       "      <td>0</td>\n",
       "      <td>0</td>\n",
       "      <td>0</td>\n",
       "      <td>0</td>\n",
       "      <td>0</td>\n",
       "    </tr>\n",
       "    <tr>\n",
       "      <th>5</th>\n",
       "      <td>5</td>\n",
       "      <td>0.437751</td>\n",
       "      <td>0.496588</td>\n",
       "      <td>0.20</td>\n",
       "      <td>0.20</td>\n",
       "      <td>0.571429</td>\n",
       "      <td>0.572837</td>\n",
       "      <td>1</td>\n",
       "      <td>1</td>\n",
       "      <td>1</td>\n",
       "      <td>0</td>\n",
       "      <td>0</td>\n",
       "      <td>0</td>\n",
       "      <td>0</td>\n",
       "      <td>0</td>\n",
       "      <td>0</td>\n",
       "      <td>0</td>\n",
       "      <td>1</td>\n",
       "    </tr>\n",
       "    <tr>\n",
       "      <th>6</th>\n",
       "      <td>6</td>\n",
       "      <td>0.292256</td>\n",
       "      <td>0.283792</td>\n",
       "      <td>0.05</td>\n",
       "      <td>0.05</td>\n",
       "      <td>0.321429</td>\n",
       "      <td>0.752625</td>\n",
       "      <td>0</td>\n",
       "      <td>0</td>\n",
       "      <td>1</td>\n",
       "      <td>0</td>\n",
       "      <td>0</td>\n",
       "      <td>0</td>\n",
       "      <td>0</td>\n",
       "      <td>0</td>\n",
       "      <td>0</td>\n",
       "      <td>0</td>\n",
       "      <td>1</td>\n",
       "    </tr>\n",
       "    <tr>\n",
       "      <th>7</th>\n",
       "      <td>7</td>\n",
       "      <td>0.245513</td>\n",
       "      <td>0.215239</td>\n",
       "      <td>0.05</td>\n",
       "      <td>0.05</td>\n",
       "      <td>0.428571</td>\n",
       "      <td>0.430238</td>\n",
       "      <td>1</td>\n",
       "      <td>1</td>\n",
       "      <td>0</td>\n",
       "      <td>0</td>\n",
       "      <td>0</td>\n",
       "      <td>0</td>\n",
       "      <td>1</td>\n",
       "      <td>0</td>\n",
       "      <td>0</td>\n",
       "      <td>0</td>\n",
       "      <td>0</td>\n",
       "    </tr>\n",
       "    <tr>\n",
       "      <th>8</th>\n",
       "      <td>8</td>\n",
       "      <td>0.653213</td>\n",
       "      <td>0.593649</td>\n",
       "      <td>0.20</td>\n",
       "      <td>0.20</td>\n",
       "      <td>0.428571</td>\n",
       "      <td>0.430238</td>\n",
       "      <td>1</td>\n",
       "      <td>1</td>\n",
       "      <td>1</td>\n",
       "      <td>0</td>\n",
       "      <td>0</td>\n",
       "      <td>1</td>\n",
       "      <td>0</td>\n",
       "      <td>0</td>\n",
       "      <td>0</td>\n",
       "      <td>0</td>\n",
       "      <td>0</td>\n",
       "    </tr>\n",
       "    <tr>\n",
       "      <th>9</th>\n",
       "      <td>9</td>\n",
       "      <td>0.447158</td>\n",
       "      <td>0.513548</td>\n",
       "      <td>0.25</td>\n",
       "      <td>0.25</td>\n",
       "      <td>0.692857</td>\n",
       "      <td>0.752625</td>\n",
       "      <td>1</td>\n",
       "      <td>0</td>\n",
       "      <td>1</td>\n",
       "      <td>0</td>\n",
       "      <td>0</td>\n",
       "      <td>0</td>\n",
       "      <td>0</td>\n",
       "      <td>1</td>\n",
       "      <td>0</td>\n",
       "      <td>0</td>\n",
       "      <td>0</td>\n",
       "    </tr>\n",
       "  </tbody>\n",
       "</table>\n",
       "</div>"
      ],
      "text/plain": [
       "   Unnamed: 0     price     totsp  livesp  kitsp      dist  metrdist  walk  \\\n",
       "0           0  0.209515  0.305476    0.05   0.05  0.678571  0.572837     1   \n",
       "1           1  0.176091  0.000000    0.05   0.05  0.750000  0.572837     1   \n",
       "2           2  0.408240  0.347262    0.05   0.05  0.821429  0.254805     1   \n",
       "3           3  0.278754  0.238705    0.05   0.05  0.750000  0.572837     1   \n",
       "4           4  0.819544  0.652738    0.30   0.30  0.535714  0.572837     0   \n",
       "5           5  0.437751  0.496588    0.20   0.20  0.571429  0.572837     1   \n",
       "6           6  0.292256  0.283792    0.05   0.05  0.321429  0.752625     0   \n",
       "7           7  0.245513  0.215239    0.05   0.05  0.428571  0.430238     1   \n",
       "8           8  0.653213  0.593649    0.20   0.20  0.428571  0.430238     1   \n",
       "9           9  0.447158  0.513548    0.25   0.25  0.692857  0.752625     1   \n",
       "\n",
       "   brick  floor  1  2  3  4  5  6  7  8  \n",
       "0      1      1  0  0  1  0  0  0  0  0  \n",
       "1      0      1  0  0  0  0  0  1  0  0  \n",
       "2      1      1  0  0  1  0  0  0  0  0  \n",
       "3      0      1  1  0  0  0  0  0  0  0  \n",
       "4      1      1  0  0  1  0  0  0  0  0  \n",
       "5      1      1  0  0  0  0  0  0  0  1  \n",
       "6      0      1  0  0  0  0  0  0  0  1  \n",
       "7      1      0  0  0  0  1  0  0  0  0  \n",
       "8      1      1  0  0  1  0  0  0  0  0  \n",
       "9      0      1  0  0  0  0  1  0  0  0  "
      ]
     },
     "execution_count": 2,
     "metadata": {},
     "output_type": "execute_result"
    }
   ],
   "source": [
    "# Загрузка подготовленного набора данных\n",
    "dataset = pandas.read_csv('prepared_data.csv') \n",
    "dataset.head(10) # Вывод первых 10 строк"
   ]
  },
  {
   "cell_type": "code",
   "execution_count": 3,
   "metadata": {},
   "outputs": [
    {
     "data": {
      "text/html": [
       "<div>\n",
       "<style scoped>\n",
       "    .dataframe tbody tr th:only-of-type {\n",
       "        vertical-align: middle;\n",
       "    }\n",
       "\n",
       "    .dataframe tbody tr th {\n",
       "        vertical-align: top;\n",
       "    }\n",
       "\n",
       "    .dataframe thead th {\n",
       "        text-align: right;\n",
       "    }\n",
       "</style>\n",
       "<table border=\"1\" class=\"dataframe\">\n",
       "  <thead>\n",
       "    <tr style=\"text-align: right;\">\n",
       "      <th></th>\n",
       "      <th>price</th>\n",
       "      <th>totsp</th>\n",
       "      <th>livesp</th>\n",
       "      <th>kitsp</th>\n",
       "      <th>dist</th>\n",
       "      <th>metrdist</th>\n",
       "    </tr>\n",
       "  </thead>\n",
       "  <tbody>\n",
       "    <tr>\n",
       "      <th>0</th>\n",
       "      <td>0.209515</td>\n",
       "      <td>0.305476</td>\n",
       "      <td>0.05</td>\n",
       "      <td>0.05</td>\n",
       "      <td>0.678571</td>\n",
       "      <td>0.572837</td>\n",
       "    </tr>\n",
       "    <tr>\n",
       "      <th>1</th>\n",
       "      <td>0.176091</td>\n",
       "      <td>0.000000</td>\n",
       "      <td>0.05</td>\n",
       "      <td>0.05</td>\n",
       "      <td>0.750000</td>\n",
       "      <td>0.572837</td>\n",
       "    </tr>\n",
       "    <tr>\n",
       "      <th>2</th>\n",
       "      <td>0.408240</td>\n",
       "      <td>0.347262</td>\n",
       "      <td>0.05</td>\n",
       "      <td>0.05</td>\n",
       "      <td>0.821429</td>\n",
       "      <td>0.254805</td>\n",
       "    </tr>\n",
       "    <tr>\n",
       "      <th>3</th>\n",
       "      <td>0.278754</td>\n",
       "      <td>0.238705</td>\n",
       "      <td>0.05</td>\n",
       "      <td>0.05</td>\n",
       "      <td>0.750000</td>\n",
       "      <td>0.572837</td>\n",
       "    </tr>\n",
       "    <tr>\n",
       "      <th>4</th>\n",
       "      <td>0.819544</td>\n",
       "      <td>0.652738</td>\n",
       "      <td>0.30</td>\n",
       "      <td>0.30</td>\n",
       "      <td>0.535714</td>\n",
       "      <td>0.572837</td>\n",
       "    </tr>\n",
       "    <tr>\n",
       "      <th>5</th>\n",
       "      <td>0.437751</td>\n",
       "      <td>0.496588</td>\n",
       "      <td>0.20</td>\n",
       "      <td>0.20</td>\n",
       "      <td>0.571429</td>\n",
       "      <td>0.572837</td>\n",
       "    </tr>\n",
       "    <tr>\n",
       "      <th>6</th>\n",
       "      <td>0.292256</td>\n",
       "      <td>0.283792</td>\n",
       "      <td>0.05</td>\n",
       "      <td>0.05</td>\n",
       "      <td>0.321429</td>\n",
       "      <td>0.752625</td>\n",
       "    </tr>\n",
       "    <tr>\n",
       "      <th>7</th>\n",
       "      <td>0.245513</td>\n",
       "      <td>0.215239</td>\n",
       "      <td>0.05</td>\n",
       "      <td>0.05</td>\n",
       "      <td>0.428571</td>\n",
       "      <td>0.430238</td>\n",
       "    </tr>\n",
       "    <tr>\n",
       "      <th>8</th>\n",
       "      <td>0.653213</td>\n",
       "      <td>0.593649</td>\n",
       "      <td>0.20</td>\n",
       "      <td>0.20</td>\n",
       "      <td>0.428571</td>\n",
       "      <td>0.430238</td>\n",
       "    </tr>\n",
       "    <tr>\n",
       "      <th>9</th>\n",
       "      <td>0.447158</td>\n",
       "      <td>0.513548</td>\n",
       "      <td>0.25</td>\n",
       "      <td>0.25</td>\n",
       "      <td>0.692857</td>\n",
       "      <td>0.752625</td>\n",
       "    </tr>\n",
       "  </tbody>\n",
       "</table>\n",
       "</div>"
      ],
      "text/plain": [
       "      price     totsp  livesp  kitsp      dist  metrdist\n",
       "0  0.209515  0.305476    0.05   0.05  0.678571  0.572837\n",
       "1  0.176091  0.000000    0.05   0.05  0.750000  0.572837\n",
       "2  0.408240  0.347262    0.05   0.05  0.821429  0.254805\n",
       "3  0.278754  0.238705    0.05   0.05  0.750000  0.572837\n",
       "4  0.819544  0.652738    0.30   0.30  0.535714  0.572837\n",
       "5  0.437751  0.496588    0.20   0.20  0.571429  0.572837\n",
       "6  0.292256  0.283792    0.05   0.05  0.321429  0.752625\n",
       "7  0.245513  0.215239    0.05   0.05  0.428571  0.430238\n",
       "8  0.653213  0.593649    0.20   0.20  0.428571  0.430238\n",
       "9  0.447158  0.513548    0.25   0.25  0.692857  0.752625"
      ]
     },
     "execution_count": 3,
     "metadata": {},
     "output_type": "execute_result"
    }
   ],
   "source": [
    "Xx = dataset.iloc[:, [*range(1,7)]]\n",
    "Xx.head(10)"
   ]
  },
  {
   "cell_type": "code",
   "execution_count": 4,
   "metadata": {},
   "outputs": [],
   "source": [
    "# Выделение входных и выходных параметров:\n",
    "# Выходной параметр - значение столбца обработанного набора данных, соответсвующее столбцу №8 из первоначального набора данных (machine.data.csv).\n",
    "# Входные параметры - все остальные столбцы обработанного набора данных.\n",
    "# Используем .values, чтобы индексы не попали в новые переменные и в дальнейшем не мешали нам, например, при построении графиков.\n",
    "X = dataset.iloc[:, [*range(1,7)]].values\n",
    "Y = dataset['price'].values\n",
    "\n",
    "# Обратите внимание на структуру вашего обработанного файлы и измените индексы, если нужно."
   ]
  },
  {
   "cell_type": "code",
   "execution_count": 5,
   "metadata": {},
   "outputs": [],
   "source": [
    "# Разделение данных на обучающую и тестовую выборки:\n",
    "# Используем метод train_test_split библиотеки sklearn.\n",
    "# Он разделяет заданные массивы входных и выходных параметров на две части каждый.\n",
    "# Значение test_size определяет долю тестовой выборки в исходных данных.\n",
    "X_train, X_test, Y_train, Y_test = train_test_split(X, Y, test_size = 0.2)"
   ]
  },
  {
   "cell_type": "code",
   "execution_count": 6,
   "metadata": {},
   "outputs": [],
   "source": [
    "# Задаем параметры структуры нейронной сети.\n",
    "\n",
    "input_layer_size = 6\n",
    "\n",
    "\n",
    "first_hidden_layer_size = 70\n",
    "second_hidden_layer_size = 25\n",
    "third_hidden_layer_size = 10\n",
    "\n",
    "output_layer_size = 1\n",
    "\n",
    "\n",
    "epochs_number = 100\n",
    "batch_size = 16"
   ]
  },
  {
   "cell_type": "code",
   "execution_count": 7,
   "metadata": {
    "scrolled": false
   },
   "outputs": [],
   "source": [
    "# Создание нейронной сети прямого распространения, пока она пустая, т.е. не содержит слоёв и нейронов.\n",
    "model = Sequential()\n",
    "\n",
    "# Входной слой и первый скрытый слой, функция активации - ReLU\n",
    "model.add(Dense(first_hidden_layer_size, input_dim=input_layer_size, activation='relu'))\n",
    "\n",
    "model.add(Dense(second_hidden_layer_size, activation='relu'))\n",
    "\n",
    "model.add(Dense(third_hidden_layer_size, activation='relu'))\n",
    "\n",
    "\n",
    "model.add(Dense(output_layer_size, activation='linear'))"
   ]
  },
  {
   "cell_type": "code",
   "execution_count": 8,
   "metadata": {
    "scrolled": true
   },
   "outputs": [
    {
     "name": "stdout",
     "output_type": "stream",
     "text": [
      "Model: \"sequential_1\"\n",
      "_________________________________________________________________\n",
      "Layer (type)                 Output Shape              Param #   \n",
      "=================================================================\n",
      "dense_1 (Dense)              (None, 70)                490       \n",
      "_________________________________________________________________\n",
      "dense_2 (Dense)              (None, 25)                1775      \n",
      "_________________________________________________________________\n",
      "dense_3 (Dense)              (None, 10)                260       \n",
      "_________________________________________________________________\n",
      "dense_4 (Dense)              (None, 1)                 11        \n",
      "=================================================================\n",
      "Total params: 2,536\n",
      "Trainable params: 2,536\n",
      "Non-trainable params: 0\n",
      "_________________________________________________________________\n"
     ]
    }
   ],
   "source": [
    "# Обзор нейронной сети, теперь в ней есть слои и нейроны.\n",
    "# Если внимательно посмотреть на количество параметров, т.е. связей между нейронами, то можно увидеть, что автоматически добавлены нейроны смещения.\n",
    "model.summary()"
   ]
  },
  {
   "cell_type": "code",
   "execution_count": 9,
   "metadata": {
    "scrolled": true
   },
   "outputs": [],
   "source": [
    "# Настройка нейронной сети.\n",
    "# Функция потерь (loss) - среднеквадратическая ошибка.\n",
    "# Оптимизатор (optimizer) - adam (в настоящий момент - это стандартный оптимизатор).\n",
    "# Указываем метрики средняя абсолютная ошибка (mean_absolute_error) и среднеквадратическая ошиба (mean_squared_error) для дальнейшего анализа.\n",
    "model.compile(loss='mean_squared_error', optimizer='adam', metrics=['mean_absolute_error', 'mean_squared_error'])"
   ]
  },
  {
   "cell_type": "code",
   "execution_count": 10,
   "metadata": {
    "scrolled": false
   },
   "outputs": [
    {
     "name": "stdout",
     "output_type": "stream",
     "text": [
      "Train on 1632 samples, validate on 408 samples\n",
      "Epoch 1/100\n",
      "1632/1632 [==============================] - 1s 444us/step - loss: 0.0062 - mean_absolute_error: 0.0554 - mean_squared_error: 0.0062 - val_loss: 0.0015 - val_mean_absolute_error: 0.0285 - val_mean_squared_error: 0.0015\n",
      "Epoch 2/100\n",
      "1632/1632 [==============================] - 0s 219us/step - loss: 4.9423e-04 - mean_absolute_error: 0.0162 - mean_squared_error: 4.9423e-04 - val_loss: 1.7995e-04 - val_mean_absolute_error: 0.0098 - val_mean_squared_error: 1.7995e-04\n",
      "Epoch 3/100\n",
      "1632/1632 [==============================] - 0s 175us/step - loss: 8.5848e-05 - mean_absolute_error: 0.0069 - mean_squared_error: 8.5848e-05 - val_loss: 7.3832e-05 - val_mean_absolute_error: 0.0062 - val_mean_squared_error: 7.3832e-05\n",
      "Epoch 4/100\n",
      "1632/1632 [==============================] - 0s 156us/step - loss: 4.3524e-05 - mean_absolute_error: 0.0049 - mean_squared_error: 4.3524e-05 - val_loss: 5.1979e-05 - val_mean_absolute_error: 0.0053 - val_mean_squared_error: 5.1979e-05\n",
      "Epoch 5/100\n",
      "1632/1632 [==============================] - 0s 166us/step - loss: 2.9662e-05 - mean_absolute_error: 0.0041 - mean_squared_error: 2.9662e-05 - val_loss: 3.7079e-05 - val_mean_absolute_error: 0.0039 - val_mean_squared_error: 3.7079e-05\n",
      "Epoch 6/100\n",
      "1632/1632 [==============================] - 0s 171us/step - loss: 2.4709e-05 - mean_absolute_error: 0.0038 - mean_squared_error: 2.4709e-05 - val_loss: 2.8425e-05 - val_mean_absolute_error: 0.0035 - val_mean_squared_error: 2.8425e-05\n",
      "Epoch 7/100\n",
      "1632/1632 [==============================] - 0s 147us/step - loss: 1.9452e-05 - mean_absolute_error: 0.0033 - mean_squared_error: 1.9452e-05 - val_loss: 2.7466e-05 - val_mean_absolute_error: 0.0034 - val_mean_squared_error: 2.7466e-05\n",
      "Epoch 8/100\n",
      "1632/1632 [==============================] - 0s 166us/step - loss: 2.1435e-05 - mean_absolute_error: 0.0036 - mean_squared_error: 2.1435e-05 - val_loss: 2.4732e-05 - val_mean_absolute_error: 0.0033 - val_mean_squared_error: 2.4732e-05\n",
      "Epoch 9/100\n",
      "1632/1632 [==============================] - 0s 139us/step - loss: 1.4957e-05 - mean_absolute_error: 0.0029 - mean_squared_error: 1.4957e-05 - val_loss: 3.5488e-05 - val_mean_absolute_error: 0.0046 - val_mean_squared_error: 3.5488e-05\n",
      "Epoch 10/100\n",
      "1632/1632 [==============================] - 0s 163us/step - loss: 1.3337e-05 - mean_absolute_error: 0.0028 - mean_squared_error: 1.3337e-05 - val_loss: 2.1120e-05 - val_mean_absolute_error: 0.0029 - val_mean_squared_error: 2.1120e-05\n",
      "Epoch 11/100\n",
      "1632/1632 [==============================] - 0s 166us/step - loss: 1.7526e-05 - mean_absolute_error: 0.0033 - mean_squared_error: 1.7526e-05 - val_loss: 1.8214e-05 - val_mean_absolute_error: 0.0027 - val_mean_squared_error: 1.8214e-05\n",
      "Epoch 12/100\n",
      "1632/1632 [==============================] - 0s 144us/step - loss: 1.1554e-05 - mean_absolute_error: 0.0026 - mean_squared_error: 1.1554e-05 - val_loss: 1.6776e-05 - val_mean_absolute_error: 0.0027 - val_mean_squared_error: 1.6776e-05\n",
      "Epoch 13/100\n",
      "1632/1632 [==============================] - 0s 136us/step - loss: 1.4193e-05 - mean_absolute_error: 0.0029 - mean_squared_error: 1.4193e-05 - val_loss: 1.4170e-05 - val_mean_absolute_error: 0.0023 - val_mean_squared_error: 1.4170e-05\n",
      "Epoch 14/100\n",
      "1632/1632 [==============================] - 0s 152us/step - loss: 9.4344e-06 - mean_absolute_error: 0.0023 - mean_squared_error: 9.4344e-06 - val_loss: 2.0801e-05 - val_mean_absolute_error: 0.0035 - val_mean_squared_error: 2.0801e-05\n",
      "Epoch 15/100\n",
      "1632/1632 [==============================] - 0s 163us/step - loss: 1.0852e-05 - mean_absolute_error: 0.0025 - mean_squared_error: 1.0852e-05 - val_loss: 1.4512e-05 - val_mean_absolute_error: 0.0026 - val_mean_squared_error: 1.4512e-05\n",
      "Epoch 16/100\n",
      "1632/1632 [==============================] - 0s 152us/step - loss: 9.2171e-06 - mean_absolute_error: 0.0023 - mean_squared_error: 9.2171e-06 - val_loss: 1.8012e-05 - val_mean_absolute_error: 0.0030 - val_mean_squared_error: 1.8012e-05\n",
      "Epoch 17/100\n",
      "1632/1632 [==============================] - 0s 175us/step - loss: 7.9076e-06 - mean_absolute_error: 0.0021 - mean_squared_error: 7.9076e-06 - val_loss: 1.8753e-05 - val_mean_absolute_error: 0.0030 - val_mean_squared_error: 1.8753e-05\n",
      "Epoch 18/100\n",
      "1632/1632 [==============================] - 0s 172us/step - loss: 1.1637e-05 - mean_absolute_error: 0.0027 - mean_squared_error: 1.1637e-05 - val_loss: 1.7183e-05 - val_mean_absolute_error: 0.0031 - val_mean_squared_error: 1.7183e-05\n",
      "Epoch 19/100\n",
      "1632/1632 [==============================] - 0s 171us/step - loss: 1.5705e-05 - mean_absolute_error: 0.0031 - mean_squared_error: 1.5705e-05 - val_loss: 3.2073e-05 - val_mean_absolute_error: 0.0047 - val_mean_squared_error: 3.2073e-05\n",
      "Epoch 20/100\n",
      "1632/1632 [==============================] - 0s 152us/step - loss: 8.6322e-06 - mean_absolute_error: 0.0023 - mean_squared_error: 8.6322e-06 - val_loss: 1.3321e-05 - val_mean_absolute_error: 0.0025 - val_mean_squared_error: 1.3321e-05\n",
      "Epoch 21/100\n",
      "1632/1632 [==============================] - 0s 168us/step - loss: 6.9851e-06 - mean_absolute_error: 0.0020 - mean_squared_error: 6.9851e-06 - val_loss: 3.1157e-05 - val_mean_absolute_error: 0.0050 - val_mean_squared_error: 3.1157e-05\n",
      "Epoch 22/100\n",
      "1632/1632 [==============================] - 0s 170us/step - loss: 1.1211e-05 - mean_absolute_error: 0.0026 - mean_squared_error: 1.1211e-05 - val_loss: 1.9620e-05 - val_mean_absolute_error: 0.0034 - val_mean_squared_error: 1.9620e-05\n",
      "Epoch 23/100\n",
      "1632/1632 [==============================] - 0s 149us/step - loss: 1.4419e-05 - mean_absolute_error: 0.0030 - mean_squared_error: 1.4419e-05 - val_loss: 1.4822e-05 - val_mean_absolute_error: 0.0029 - val_mean_squared_error: 1.4822e-05\n",
      "Epoch 24/100\n",
      "1632/1632 [==============================] - 0s 170us/step - loss: 1.1778e-05 - mean_absolute_error: 0.0027 - mean_squared_error: 1.1778e-05 - val_loss: 1.2042e-05 - val_mean_absolute_error: 0.0020 - val_mean_squared_error: 1.2042e-05\n",
      "Epoch 25/100\n",
      "1632/1632 [==============================] - 0s 176us/step - loss: 4.5210e-06 - mean_absolute_error: 0.0016 - mean_squared_error: 4.5210e-06 - val_loss: 1.1585e-05 - val_mean_absolute_error: 0.0022 - val_mean_squared_error: 1.1585e-05\n",
      "Epoch 26/100\n",
      "1632/1632 [==============================] - 0s 172us/step - loss: 1.5996e-05 - mean_absolute_error: 0.0032 - mean_squared_error: 1.5996e-05 - val_loss: 2.3096e-05 - val_mean_absolute_error: 0.0038 - val_mean_squared_error: 2.3096e-05\n",
      "Epoch 27/100\n",
      "1632/1632 [==============================] - 0s 149us/step - loss: 6.6298e-06 - mean_absolute_error: 0.0019 - mean_squared_error: 6.6298e-06 - val_loss: 1.1131e-05 - val_mean_absolute_error: 0.0019 - val_mean_squared_error: 1.1131e-05\n",
      "Epoch 28/100\n",
      "1632/1632 [==============================] - 0s 171us/step - loss: 4.6135e-06 - mean_absolute_error: 0.0016 - mean_squared_error: 4.6135e-06 - val_loss: 9.6668e-06 - val_mean_absolute_error: 0.0019 - val_mean_squared_error: 9.6668e-06\n",
      "Epoch 29/100\n",
      "1632/1632 [==============================] - 0s 170us/step - loss: 5.1339e-06 - mean_absolute_error: 0.0018 - mean_squared_error: 5.1339e-06 - val_loss: 1.0000e-05 - val_mean_absolute_error: 0.0021 - val_mean_squared_error: 1.0000e-05\n",
      "Epoch 30/100\n",
      "1632/1632 [==============================] - 0s 173us/step - loss: 1.1459e-05 - mean_absolute_error: 0.0025 - mean_squared_error: 1.1459e-05 - val_loss: 2.4563e-05 - val_mean_absolute_error: 0.0029 - val_mean_squared_error: 2.4563e-05\n",
      "Epoch 31/100\n",
      "1632/1632 [==============================] - 0s 149us/step - loss: 7.9153e-06 - mean_absolute_error: 0.0021 - mean_squared_error: 7.9153e-06 - val_loss: 1.6062e-05 - val_mean_absolute_error: 0.0031 - val_mean_squared_error: 1.6062e-05\n",
      "Epoch 32/100\n",
      "1632/1632 [==============================] - 0s 166us/step - loss: 6.9092e-06 - mean_absolute_error: 0.0021 - mean_squared_error: 6.9092e-06 - val_loss: 1.2704e-05 - val_mean_absolute_error: 0.0027 - val_mean_squared_error: 1.2704e-05\n",
      "Epoch 33/100\n",
      "1632/1632 [==============================] - 0s 165us/step - loss: 6.8070e-06 - mean_absolute_error: 0.0020 - mean_squared_error: 6.8070e-06 - val_loss: 9.4907e-06 - val_mean_absolute_error: 0.0022 - val_mean_squared_error: 9.4907e-06\n",
      "Epoch 34/100\n",
      "1632/1632 [==============================] - 0s 152us/step - loss: 7.0256e-06 - mean_absolute_error: 0.0020 - mean_squared_error: 7.0256e-06 - val_loss: 9.1930e-06 - val_mean_absolute_error: 0.0021 - val_mean_squared_error: 9.1930e-06\n",
      "Epoch 35/100\n",
      "1632/1632 [==============================] - 0s 162us/step - loss: 9.2540e-06 - mean_absolute_error: 0.0024 - mean_squared_error: 9.2540e-06 - val_loss: 1.2285e-05 - val_mean_absolute_error: 0.0024 - val_mean_squared_error: 1.2285e-05\n",
      "Epoch 36/100\n",
      "1632/1632 [==============================] - 0s 138us/step - loss: 2.4196e-05 - mean_absolute_error: 0.0035 - mean_squared_error: 2.4196e-05 - val_loss: 1.9397e-05 - val_mean_absolute_error: 0.0035 - val_mean_squared_error: 1.9397e-05\n",
      "Epoch 37/100\n",
      "1632/1632 [==============================] - 0s 166us/step - loss: 2.0736e-05 - mean_absolute_error: 0.0034 - mean_squared_error: 2.0736e-05 - val_loss: 1.1505e-05 - val_mean_absolute_error: 0.0025 - val_mean_squared_error: 1.1505e-05\n",
      "Epoch 38/100\n",
      "1632/1632 [==============================] - 0s 146us/step - loss: 5.4042e-06 - mean_absolute_error: 0.0018 - mean_squared_error: 5.4042e-06 - val_loss: 6.2654e-06 - val_mean_absolute_error: 0.0014 - val_mean_squared_error: 6.2654e-06\n",
      "Epoch 39/100\n",
      "1632/1632 [==============================] - 0s 170us/step - loss: 4.0395e-06 - mean_absolute_error: 0.0015 - mean_squared_error: 4.0395e-06 - val_loss: 6.5769e-06 - val_mean_absolute_error: 0.0014 - val_mean_squared_error: 6.5769e-06\n",
      "Epoch 40/100\n",
      "1632/1632 [==============================] - 0s 170us/step - loss: 5.3425e-06 - mean_absolute_error: 0.0018 - mean_squared_error: 5.3425e-06 - val_loss: 5.9762e-06 - val_mean_absolute_error: 0.0013 - val_mean_squared_error: 5.9762e-06\n",
      "Epoch 41/100\n",
      "1632/1632 [==============================] - 0s 147us/step - loss: 7.1407e-06 - mean_absolute_error: 0.0021 - mean_squared_error: 7.1407e-06 - val_loss: 5.7631e-06 - val_mean_absolute_error: 0.0013 - val_mean_squared_error: 5.7631e-06\n",
      "Epoch 42/100\n",
      "1632/1632 [==============================] - 0s 156us/step - loss: 3.3437e-06 - mean_absolute_error: 0.0014 - mean_squared_error: 3.3437e-06 - val_loss: 1.0116e-05 - val_mean_absolute_error: 0.0024 - val_mean_squared_error: 1.0116e-05\n",
      "Epoch 43/100\n",
      "1632/1632 [==============================] - 0s 143us/step - loss: 6.4499e-06 - mean_absolute_error: 0.0020 - mean_squared_error: 6.4499e-06 - val_loss: 1.0121e-05 - val_mean_absolute_error: 0.0025 - val_mean_squared_error: 1.0121e-05\n",
      "Epoch 44/100\n",
      "1632/1632 [==============================] - 0s 137us/step - loss: 4.8315e-06 - mean_absolute_error: 0.0017 - mean_squared_error: 4.8315e-06 - val_loss: 7.9979e-06 - val_mean_absolute_error: 0.0019 - val_mean_squared_error: 7.9979e-06\n",
      "Epoch 45/100\n",
      "1632/1632 [==============================] - 0s 153us/step - loss: 1.2857e-05 - mean_absolute_error: 0.0028 - mean_squared_error: 1.2857e-05 - val_loss: 1.7459e-05 - val_mean_absolute_error: 0.0035 - val_mean_squared_error: 1.7459e-05\n",
      "Epoch 46/100\n",
      "1632/1632 [==============================] - 0s 140us/step - loss: 1.4181e-05 - mean_absolute_error: 0.0028 - mean_squared_error: 1.4181e-05 - val_loss: 1.9122e-05 - val_mean_absolute_error: 0.0033 - val_mean_squared_error: 1.9122e-05\n",
      "Epoch 47/100\n",
      "1632/1632 [==============================] - 0s 164us/step - loss: 1.2780e-05 - mean_absolute_error: 0.0027 - mean_squared_error: 1.2780e-05 - val_loss: 1.1737e-05 - val_mean_absolute_error: 0.0024 - val_mean_squared_error: 1.1737e-05\n",
      "Epoch 48/100\n",
      "1632/1632 [==============================] - 0s 132us/step - loss: 1.0849e-05 - mean_absolute_error: 0.0026 - mean_squared_error: 1.0849e-05 - val_loss: 4.7520e-06 - val_mean_absolute_error: 0.0012 - val_mean_squared_error: 4.7520e-06\n",
      "Epoch 49/100\n",
      "1632/1632 [==============================] - 0s 163us/step - loss: 9.9025e-06 - mean_absolute_error: 0.0024 - mean_squared_error: 9.9025e-06 - val_loss: 1.2612e-05 - val_mean_absolute_error: 0.0024 - val_mean_squared_error: 1.2612e-05\n",
      "Epoch 50/100\n",
      "1632/1632 [==============================] - 0s 148us/step - loss: 6.0684e-06 - mean_absolute_error: 0.0019 - mean_squared_error: 6.0684e-06 - val_loss: 1.6105e-05 - val_mean_absolute_error: 0.0034 - val_mean_squared_error: 1.6105e-05\n",
      "Epoch 51/100\n",
      "1632/1632 [==============================] - 0s 165us/step - loss: 1.4137e-05 - mean_absolute_error: 0.0030 - mean_squared_error: 1.4137e-05 - val_loss: 6.2046e-05 - val_mean_absolute_error: 0.0074 - val_mean_squared_error: 6.2046e-05\n",
      "Epoch 52/100\n",
      "1632/1632 [==============================] - 0s 144us/step - loss: 1.5470e-05 - mean_absolute_error: 0.0027 - mean_squared_error: 1.5470e-05 - val_loss: 5.4154e-06 - val_mean_absolute_error: 0.0014 - val_mean_squared_error: 5.4154e-06\n",
      "Epoch 53/100\n",
      "1632/1632 [==============================] - 0s 170us/step - loss: 7.0675e-06 - mean_absolute_error: 0.0021 - mean_squared_error: 7.0675e-06 - val_loss: 2.7614e-05 - val_mean_absolute_error: 0.0048 - val_mean_squared_error: 2.7614e-05\n",
      "Epoch 54/100\n",
      "1632/1632 [==============================] - 0s 160us/step - loss: 1.9275e-05 - mean_absolute_error: 0.0035 - mean_squared_error: 1.9275e-05 - val_loss: 2.0953e-05 - val_mean_absolute_error: 0.0035 - val_mean_squared_error: 2.0953e-05\n",
      "Epoch 55/100\n",
      "1632/1632 [==============================] - 0s 143us/step - loss: 1.5833e-05 - mean_absolute_error: 0.0028 - mean_squared_error: 1.5833e-05 - val_loss: 5.9926e-06 - val_mean_absolute_error: 0.0014 - val_mean_squared_error: 5.9926e-06\n",
      "Epoch 56/100\n",
      "1632/1632 [==============================] - 0s 167us/step - loss: 3.1106e-06 - mean_absolute_error: 0.0013 - mean_squared_error: 3.1106e-06 - val_loss: 6.8701e-06 - val_mean_absolute_error: 0.0020 - val_mean_squared_error: 6.8701e-06\n",
      "Epoch 57/100\n",
      "1632/1632 [==============================] - 0s 136us/step - loss: 2.9182e-06 - mean_absolute_error: 0.0013 - mean_squared_error: 2.9182e-06 - val_loss: 5.0980e-06 - val_mean_absolute_error: 0.0017 - val_mean_squared_error: 5.0980e-06\n",
      "Epoch 58/100\n",
      "1632/1632 [==============================] - 0s 166us/step - loss: 2.0761e-05 - mean_absolute_error: 0.0034 - mean_squared_error: 2.0761e-05 - val_loss: 1.1067e-05 - val_mean_absolute_error: 0.0024 - val_mean_squared_error: 1.1067e-05\n",
      "Epoch 59/100\n",
      "1632/1632 [==============================] - 0s 148us/step - loss: 4.1072e-06 - mean_absolute_error: 0.0015 - mean_squared_error: 4.1072e-06 - val_loss: 5.8467e-06 - val_mean_absolute_error: 0.0019 - val_mean_squared_error: 5.8467e-06\n",
      "Epoch 60/100\n",
      "1632/1632 [==============================] - 0s 175us/step - loss: 3.1768e-06 - mean_absolute_error: 0.0014 - mean_squared_error: 3.1768e-06 - val_loss: 4.2875e-06 - val_mean_absolute_error: 0.0012 - val_mean_squared_error: 4.2875e-06\n",
      "Epoch 61/100\n",
      "1632/1632 [==============================] - 0s 167us/step - loss: 2.1644e-06 - mean_absolute_error: 0.0011 - mean_squared_error: 2.1644e-06 - val_loss: 4.3998e-06 - val_mean_absolute_error: 0.0011 - val_mean_squared_error: 4.3998e-06\n",
      "Epoch 62/100\n",
      "1632/1632 [==============================] - 0s 143us/step - loss: 1.9004e-06 - mean_absolute_error: 0.0010 - mean_squared_error: 1.9004e-06 - val_loss: 4.2346e-06 - val_mean_absolute_error: 0.0014 - val_mean_squared_error: 4.2346e-06\n",
      "Epoch 63/100\n",
      "1632/1632 [==============================] - 0s 189us/step - loss: 2.3568e-06 - mean_absolute_error: 0.0012 - mean_squared_error: 2.3568e-06 - val_loss: 1.2665e-05 - val_mean_absolute_error: 0.0032 - val_mean_squared_error: 1.2665e-05\n",
      "Epoch 64/100\n",
      "1632/1632 [==============================] - 0s 181us/step - loss: 3.7433e-06 - mean_absolute_error: 0.0015 - mean_squared_error: 3.7433e-06 - val_loss: 5.4720e-06 - val_mean_absolute_error: 0.0016 - val_mean_squared_error: 5.4720e-06\n",
      "Epoch 65/100\n",
      "1632/1632 [==============================] - 0s 167us/step - loss: 4.6742e-06 - mean_absolute_error: 0.0017 - mean_squared_error: 4.6742e-06 - val_loss: 4.4727e-06 - val_mean_absolute_error: 0.0010 - val_mean_squared_error: 4.4727e-06\n",
      "Epoch 66/100\n",
      "1632/1632 [==============================] - 0s 174us/step - loss: 8.1877e-06 - mean_absolute_error: 0.0022 - mean_squared_error: 8.1877e-06 - val_loss: 1.1666e-05 - val_mean_absolute_error: 0.0028 - val_mean_squared_error: 1.1666e-05\n",
      "Epoch 67/100\n",
      "1632/1632 [==============================] - 0s 177us/step - loss: 8.1059e-06 - mean_absolute_error: 0.0023 - mean_squared_error: 8.1059e-06 - val_loss: 5.1533e-06 - val_mean_absolute_error: 0.0011 - val_mean_squared_error: 5.1533e-06\n",
      "Epoch 68/100\n",
      "1632/1632 [==============================] - 0s 177us/step - loss: 2.0415e-06 - mean_absolute_error: 0.0011 - mean_squared_error: 2.0415e-06 - val_loss: 7.5814e-06 - val_mean_absolute_error: 0.0018 - val_mean_squared_error: 7.5814e-06\n",
      "Epoch 69/100\n",
      "1632/1632 [==============================] - 0s 147us/step - loss: 5.5659e-06 - mean_absolute_error: 0.0018 - mean_squared_error: 5.5659e-06 - val_loss: 2.7578e-06 - val_mean_absolute_error: 7.7774e-04 - val_mean_squared_error: 2.7578e-06\n",
      "Epoch 70/100\n",
      "1632/1632 [==============================] - 0s 167us/step - loss: 2.5624e-06 - mean_absolute_error: 0.0013 - mean_squared_error: 2.5624e-06 - val_loss: 4.0557e-06 - val_mean_absolute_error: 0.0012 - val_mean_squared_error: 4.0557e-06\n",
      "Epoch 71/100\n",
      "1632/1632 [==============================] - 0s 174us/step - loss: 1.4727e-06 - mean_absolute_error: 9.1862e-04 - mean_squared_error: 1.4727e-06 - val_loss: 8.0492e-06 - val_mean_absolute_error: 0.0024 - val_mean_squared_error: 8.0492e-06\n",
      "Epoch 72/100\n",
      "1632/1632 [==============================] - 0s 157us/step - loss: 5.3783e-06 - mean_absolute_error: 0.0018 - mean_squared_error: 5.3783e-06 - val_loss: 5.2078e-06 - val_mean_absolute_error: 0.0016 - val_mean_squared_error: 5.2078e-06\n",
      "Epoch 73/100\n",
      "1632/1632 [==============================] - 0s 169us/step - loss: 9.9296e-06 - mean_absolute_error: 0.0024 - mean_squared_error: 9.9296e-06 - val_loss: 6.6355e-06 - val_mean_absolute_error: 0.0017 - val_mean_squared_error: 6.6355e-06\n",
      "Epoch 74/100\n",
      "1632/1632 [==============================] - 0s 180us/step - loss: 2.7494e-06 - mean_absolute_error: 0.0013 - mean_squared_error: 2.7494e-06 - val_loss: 1.1244e-05 - val_mean_absolute_error: 0.0029 - val_mean_squared_error: 1.1244e-05\n",
      "Epoch 75/100\n",
      "1632/1632 [==============================] - 0s 157us/step - loss: 9.1182e-06 - mean_absolute_error: 0.0023 - mean_squared_error: 9.1182e-06 - val_loss: 8.0672e-06 - val_mean_absolute_error: 0.0023 - val_mean_squared_error: 8.0672e-06\n",
      "Epoch 76/100\n",
      "1632/1632 [==============================] - 0s 156us/step - loss: 5.8567e-06 - mean_absolute_error: 0.0019 - mean_squared_error: 5.8567e-06 - val_loss: 9.0177e-06 - val_mean_absolute_error: 0.0024 - val_mean_squared_error: 9.0177e-06\n",
      "Epoch 77/100\n",
      "1632/1632 [==============================] - 0s 176us/step - loss: 3.6539e-06 - mean_absolute_error: 0.0015 - mean_squared_error: 3.6539e-06 - val_loss: 4.4458e-06 - val_mean_absolute_error: 0.0013 - val_mean_squared_error: 4.4458e-06\n",
      "Epoch 78/100\n",
      "1632/1632 [==============================] - 0s 179us/step - loss: 1.2973e-05 - mean_absolute_error: 0.0027 - mean_squared_error: 1.2973e-05 - val_loss: 5.8420e-05 - val_mean_absolute_error: 0.0068 - val_mean_squared_error: 5.8420e-05\n",
      "Epoch 79/100\n",
      "1632/1632 [==============================] - 0s 175us/step - loss: 1.2164e-05 - mean_absolute_error: 0.0026 - mean_squared_error: 1.2164e-05 - val_loss: 4.3949e-06 - val_mean_absolute_error: 0.0012 - val_mean_squared_error: 4.3949e-06\n",
      "Epoch 80/100\n",
      "1632/1632 [==============================] - 0s 143us/step - loss: 3.7162e-06 - mean_absolute_error: 0.0015 - mean_squared_error: 3.7162e-06 - val_loss: 1.0859e-05 - val_mean_absolute_error: 0.0029 - val_mean_squared_error: 1.0859e-05\n",
      "Epoch 81/100\n",
      "1632/1632 [==============================] - 0s 175us/step - loss: 4.0922e-06 - mean_absolute_error: 0.0016 - mean_squared_error: 4.0922e-06 - val_loss: 3.6645e-06 - val_mean_absolute_error: 0.0014 - val_mean_squared_error: 3.6645e-06\n",
      "Epoch 82/100\n",
      "1632/1632 [==============================] - 0s 187us/step - loss: 1.1332e-06 - mean_absolute_error: 8.1862e-04 - mean_squared_error: 1.1332e-06 - val_loss: 3.6663e-06 - val_mean_absolute_error: 0.0010 - val_mean_squared_error: 3.6663e-06\n",
      "Epoch 83/100\n",
      "1632/1632 [==============================] - 0s 164us/step - loss: 1.5188e-06 - mean_absolute_error: 9.6547e-04 - mean_squared_error: 1.5188e-06 - val_loss: 4.7408e-06 - val_mean_absolute_error: 0.0016 - val_mean_squared_error: 4.7408e-06\n",
      "Epoch 84/100\n",
      "1632/1632 [==============================] - 0s 164us/step - loss: 2.1558e-06 - mean_absolute_error: 0.0012 - mean_squared_error: 2.1558e-06 - val_loss: 2.5656e-06 - val_mean_absolute_error: 6.8869e-04 - val_mean_squared_error: 2.5656e-06\n",
      "Epoch 85/100\n",
      "1632/1632 [==============================] - 0s 158us/step - loss: 1.6172e-06 - mean_absolute_error: 9.8650e-04 - mean_squared_error: 1.6172e-06 - val_loss: 3.2812e-06 - val_mean_absolute_error: 0.0011 - val_mean_squared_error: 3.2812e-06\n",
      "Epoch 86/100\n",
      "1632/1632 [==============================] - 0s 167us/step - loss: 6.7242e-06 - mean_absolute_error: 0.0019 - mean_squared_error: 6.7242e-06 - val_loss: 6.5557e-06 - val_mean_absolute_error: 0.0021 - val_mean_squared_error: 6.5557e-06\n",
      "Epoch 87/100\n",
      "1632/1632 [==============================] - 0s 166us/step - loss: 5.5711e-06 - mean_absolute_error: 0.0018 - mean_squared_error: 5.5711e-06 - val_loss: 6.1363e-06 - val_mean_absolute_error: 0.0019 - val_mean_squared_error: 6.1363e-06\n",
      "Epoch 88/100\n",
      "1632/1632 [==============================] - 0s 149us/step - loss: 3.7011e-06 - mean_absolute_error: 0.0015 - mean_squared_error: 3.7011e-06 - val_loss: 2.7454e-06 - val_mean_absolute_error: 8.4878e-04 - val_mean_squared_error: 2.7454e-06\n",
      "Epoch 89/100\n",
      "1632/1632 [==============================] - 0s 173us/step - loss: 7.6411e-06 - mean_absolute_error: 0.0022 - mean_squared_error: 7.6411e-06 - val_loss: 4.7472e-06 - val_mean_absolute_error: 0.0012 - val_mean_squared_error: 4.7472e-06\n",
      "Epoch 90/100\n",
      "1632/1632 [==============================] - 0s 132us/step - loss: 2.6121e-05 - mean_absolute_error: 0.0037 - mean_squared_error: 2.6121e-05 - val_loss: 1.2067e-04 - val_mean_absolute_error: 0.0103 - val_mean_squared_error: 1.2067e-04\n",
      "Epoch 91/100\n",
      "1632/1632 [==============================] - 0s 166us/step - loss: 7.8323e-06 - mean_absolute_error: 0.0020 - mean_squared_error: 7.8323e-06 - val_loss: 4.9829e-06 - val_mean_absolute_error: 0.0014 - val_mean_squared_error: 4.9829e-06\n",
      "Epoch 92/100\n",
      "1632/1632 [==============================] - 0s 134us/step - loss: 1.7528e-06 - mean_absolute_error: 0.0010 - mean_squared_error: 1.7528e-06 - val_loss: 3.1640e-06 - val_mean_absolute_error: 0.0011 - val_mean_squared_error: 3.1640e-06\n",
      "Epoch 93/100\n",
      "1632/1632 [==============================] - 0s 162us/step - loss: 8.0755e-07 - mean_absolute_error: 6.7069e-04 - mean_squared_error: 8.0755e-07 - val_loss: 2.7666e-06 - val_mean_absolute_error: 6.9138e-04 - val_mean_squared_error: 2.7666e-06\n",
      "Epoch 94/100\n",
      "1632/1632 [==============================] - 0s 144us/step - loss: 1.0447e-06 - mean_absolute_error: 8.0213e-04 - mean_squared_error: 1.0447e-06 - val_loss: 4.2007e-06 - val_mean_absolute_error: 0.0014 - val_mean_squared_error: 4.2007e-06\n",
      "Epoch 95/100\n",
      "1632/1632 [==============================] - 0s 162us/step - loss: 1.6627e-06 - mean_absolute_error: 9.9393e-04 - mean_squared_error: 1.6627e-06 - val_loss: 9.1574e-06 - val_mean_absolute_error: 0.0024 - val_mean_squared_error: 9.1574e-06\n",
      "Epoch 96/100\n",
      "1632/1632 [==============================] - 0s 135us/step - loss: 3.0538e-06 - mean_absolute_error: 0.0014 - mean_squared_error: 3.0538e-06 - val_loss: 3.1520e-06 - val_mean_absolute_error: 0.0011 - val_mean_squared_error: 3.1520e-06\n",
      "Epoch 97/100\n",
      "1632/1632 [==============================] - 0s 168us/step - loss: 1.2861e-06 - mean_absolute_error: 8.7059e-04 - mean_squared_error: 1.2861e-06 - val_loss: 5.2871e-06 - val_mean_absolute_error: 0.0020 - val_mean_squared_error: 5.2871e-06\n",
      "Epoch 98/100\n",
      "1632/1632 [==============================] - 0s 147us/step - loss: 1.9085e-06 - mean_absolute_error: 0.0011 - mean_squared_error: 1.9085e-06 - val_loss: 1.1096e-05 - val_mean_absolute_error: 0.0031 - val_mean_squared_error: 1.1096e-05\n",
      "Epoch 99/100\n",
      "1632/1632 [==============================] - 0s 168us/step - loss: 2.4293e-06 - mean_absolute_error: 0.0012 - mean_squared_error: 2.4293e-06 - val_loss: 3.0678e-06 - val_mean_absolute_error: 0.0011 - val_mean_squared_error: 3.0678e-06\n",
      "Epoch 100/100\n",
      "1632/1632 [==============================] - 0s 162us/step - loss: 1.3233e-06 - mean_absolute_error: 8.9759e-04 - mean_squared_error: 1.3233e-06 - val_loss: 2.3584e-06 - val_mean_absolute_error: 9.0292e-04 - val_mean_squared_error: 2.3584e-06\n"
     ]
    }
   ],
   "source": [
    "# Обучение нейронной сети.\n",
    "# На вход передаем обучающие и тестовые выборки, количество эпох и размер батча.\n",
    "# На выходе получаем объект с историей обучения, который далее будем анализировать.\n",
    "history = model.fit(X_train, Y_train, validation_data = (X_test,Y_test), epochs=epochs_number, batch_size=batch_size)"
   ]
  },
  {
   "cell_type": "code",
   "execution_count": 11,
   "metadata": {},
   "outputs": [
    {
     "data": {
      "image/png": "[encoded data removed]",
      "text/plain": [
       "<Figure size 432x288 with 1 Axes>"
      ]
     },
     "metadata": {
      "needs_background": "light"
     },
     "output_type": "display_data"
    }
   ],
   "source": [
    "# Выводим динамику среднего абсолютного отклонения от номера эпохи обучения.\n",
    "plt.plot(history.history['mean_absolute_error'])\n",
    "plt.plot(history.history['val_mean_absolute_error']) \n",
    "plt.title('Model MAE') \n",
    "plt.ylabel('MAE') \n",
    "plt.xlabel('Epoch') \n",
    "plt.legend(['Train', 'Test'], loc='upper right') \n",
    "plt.show()"
   ]
  },
  {
   "cell_type": "code",
   "execution_count": 12,
   "metadata": {},
   "outputs": [
    {
     "data": {
      "image/png": "[encoded data removed]",
      "text/plain": [
       "<Figure size 432x288 with 1 Axes>"
      ]
     },
     "metadata": {
      "needs_background": "light"
     },
     "output_type": "display_data"
    }
   ],
   "source": [
    "# Выводим динамику среднеквадратического отклонения, т.е. значения функции потерь, от номера эпохи обучения.\n",
    "# Видно, что в процессе обучения сеть с каждой эпохой вычисляет всё более точные прогнозы значений Y.\n",
    "plt.plot(history.history['mean_squared_error'])\n",
    "plt.plot(history.history['val_mean_squared_error']) \n",
    "plt.title('Model MSE') \n",
    "plt.ylabel('MSE') \n",
    "plt.xlabel('Epoch') \n",
    "plt.legend(['Train', 'Test'], loc='upper right') \n",
    "plt.show()"
   ]
  },
  {
   "cell_type": "code",
   "execution_count": 13,
   "metadata": {},
   "outputs": [],
   "source": [
    "# Предсказание уже обученной нейронной сети на обучающей выборке:\n",
    "Y_pred_train = model.predict(X_train).flatten()"
   ]
  },
  {
   "cell_type": "code",
   "execution_count": 14,
   "metadata": {},
   "outputs": [
    {
     "data": {
      "image/png": "[encoded data removed]",
      "text/plain": [
       "<Figure size 432x288 with 1 Axes>"
      ]
     },
     "metadata": {
      "needs_background": "light"
     },
     "output_type": "display_data"
    }
   ],
   "source": [
    "# Сравним эталонные значения Y_train и результат работы обученной нейронной сети Y_pred_train для обучающей выборки.\n",
    "# В идеальной ситуации они должны совпадать, т.е. точки (Y_train[i], Y_pred_train[i]) должны лежать на прямой Y_train = Y_pred_train.\n",
    "plt.plot(Y_train, Y_pred_train, 'bo')\n",
    "plt.plot([0,1], [0,1], 'r-')\n",
    "plt.title('Test vs Pred_test') \n",
    "plt.ylabel('Pred_test') \n",
    "plt.xlabel('Test') \n",
    "plt.show()"
   ]
  },
  {
   "cell_type": "code",
   "execution_count": 15,
   "metadata": {},
   "outputs": [
    {
     "data": {
      "image/png": "[encoded data removed]",
      "text/plain": [
       "<Figure size 432x288 with 1 Axes>"
      ]
     },
     "metadata": {
      "needs_background": "light"
     },
     "output_type": "display_data"
    }
   ],
   "source": [
    "# Выведем сами значения Y_train и Y_pred_train.\n",
    "plt.plot(Y_train)\n",
    "plt.plot(Y_pred_train)\n",
    "plt.show()"
   ]
  },
  {
   "cell_type": "code",
   "execution_count": 16,
   "metadata": {},
   "outputs": [],
   "source": [
    "# Таким образом, обучение по обучающей выборке проведено.\n",
    "# Теперь проверим работу нейроной сети на тестовой выборке.\n",
    "\n",
    "# Предсказание обученной нейронной сети на тестовой выборке:\n",
    "Y_pred_test = model.predict(X_test).flatten()"
   ]
  },
  {
   "cell_type": "code",
   "execution_count": 17,
   "metadata": {
    "scrolled": true
   },
   "outputs": [
    {
     "data": {
      "image/png": "[encoded data removed]",
      "text/plain": [
       "<Figure size 432x288 with 1 Axes>"
      ]
     },
     "metadata": {
      "needs_background": "light"
     },
     "output_type": "display_data"
    }
   ],
   "source": [
    "# Сравним эталонные значения Y_test и результат работы обученной нейронной сети Y_pred_test для тестовой выборки.\n",
    "plt.plot(Y_test, Y_pred_test, 'bo')\n",
    "plt.plot([0,1], [0,1], 'r-')\n",
    "plt.title('Test vs Pred_test') \n",
    "plt.ylabel('Pred_test') \n",
    "plt.xlabel('Test') \n",
    "plt.show()"
   ]
  },
  {
   "cell_type": "code",
   "execution_count": 18,
   "metadata": {
    "scrolled": false
   },
   "outputs": [
    {
     "data": {
      "image/png": "[encoded data removed]",
      "text/plain": [
       "<Figure size 432x288 with 1 Axes>"
      ]
     },
     "metadata": {
      "needs_background": "light"
     },
     "output_type": "display_data"
    }
   ],
   "source": [
    "# Выведем сами значения Y_test и Y_pred_test.\n",
    "plt.plot(Y_test)\n",
    "plt.plot(Y_pred_test)\n",
    "plt.show()"
   ]
  },
  {
   "cell_type": "code",
   "execution_count": 19,
   "metadata": {},
   "outputs": [
    {
     "name": "stdout",
     "output_type": "stream",
     "text": [
      "0.0009583865259439717\n",
      "0.0015357063684248648\n"
     ]
    }
   ],
   "source": [
    "# Итого, качество работы нейронной сети на тестовых данных ниже, чем на обучающих - это ожидаемо.\n",
    "# Тем не менее, нейронная сеть способна найти зависимости и предсказвать значение Y по X с приемлемым уровенм точности.\n",
    "\n",
    "# Сравним среднеквадратичные ошибки (значения функции потерь) для обучающей и тестовой выборок.\n",
    "print(numpy.sqrt(mean_squared_error(Y_train, Y_pred_train)))\n",
    "print(numpy.sqrt(mean_squared_error(Y_test, Y_pred_test)))"
   ]
  },
  {
   "cell_type": "code",
   "execution_count": 20,
   "metadata": {},
   "outputs": [
    {
     "name": "stdout",
     "output_type": "stream",
     "text": [
      "Train k = 0.9698473215103149, p = 5.511072633161071e-18\n",
      "Test k = 0.5993604063987732, p = 1.246872549521732e-29\n"
     ]
    }
   ],
   "source": [
    "# Проверим на нормальное распределение разности пар (Y_train, Y_pred_train), (Y_test, Y_pred_test)\n",
    "# Для этого используем библиотеку scipy и метод stats.shapiro.\n",
    "k_train, p_train = stats.shapiro(Y_train - Y_pred_train)\n",
    "print('Train k = {0}, p = {1}'.format(k_train, p_train))\n",
    "\n",
    "k_test, p_test = stats.shapiro(Y_test - Y_pred_test)\n",
    "print('Test k = {0}, p = {1}'.format(k_test, p_test))"
   ]
  },
  {
   "cell_type": "code",
   "execution_count": 21,
   "metadata": {},
   "outputs": [
    {
     "name": "stdout",
     "output_type": "stream",
     "text": [
      "k_s = 0.745367169380188, p_s = 0.0\n",
      "k_n = 1106.648704973216, p_n = 4.9463747026658355e-241\n"
     ]
    }
   ],
   "source": [
    "# Для полной выборки (Y, Y_pred) применим два статистических теста: shapiro и normaltest.\n",
    "Y_pred = model.predict(X).flatten()\n",
    "\n",
    "k_s, p_s = stats.shapiro(Y - Y_pred)\n",
    "print('k_s = {0}, p_s = {1}'.format(k_s, p_s))\n",
    "\n",
    "k_n, p_n = stats.normaltest(Y - Y_pred)\n",
    "print('k_n = {0}, p_n = {1}'.format(k_n, p_n))"
   ]
  },
  {
   "cell_type": "code",
   "execution_count": 22,
   "metadata": {
    "scrolled": true
   },
   "outputs": [
    {
     "data": {
      "image/png": "[encoded data removed]",
      "text/plain": [
       "<Figure size 432x288 with 1 Axes>"
      ]
     },
     "metadata": {
      "needs_background": "light"
     },
     "output_type": "display_data"
    }
   ],
   "source": [
    "# И тоже самое визуально, с помощью грфиков квантиль-квантиль.\n",
    "# Обучающая выборка\n",
    "qqplot(Y_train - Y_pred_train)\n",
    "plt.show()"
   ]
  },
  {
   "cell_type": "code",
   "execution_count": 23,
   "metadata": {
    "scrolled": true
   },
   "outputs": [
    {
     "data": {
      "image/png": "[encoded data removed]",
      "text/plain": [
       "<Figure size 432x288 with 1 Axes>"
      ]
     },
     "metadata": {
      "needs_background": "light"
     },
     "output_type": "display_data"
    }
   ],
   "source": [
    "# Тестовая выборка\n",
    "qqplot(Y_test - Y_pred_test)\n",
    "plt.show()"
   ]
  },
  {
   "cell_type": "code",
   "execution_count": 24,
   "metadata": {
    "scrolled": true
   },
   "outputs": [
    {
     "data": {
      "image/png": "[encoded data removed]",
      "text/plain": [
       "<Figure size 432x288 with 1 Axes>"
      ]
     },
     "metadata": {
      "needs_background": "light"
     },
     "output_type": "display_data"
    }
   ],
   "source": [
    "# Полная выборка\n",
    "qqplot(Y - Y_pred)\n",
    "plt.show()"
   ]
  },
  {
   "cell_type": "code",
   "execution_count": 25,
   "metadata": {},
   "outputs": [
    {
     "data": {
      "image/png": "[encoded data removed]",
      "text/plain": [
       "<Figure size 432x288 with 1 Axes>"
      ]
     },
     "metadata": {
      "needs_background": "light"
     },
     "output_type": "display_data"
    }
   ],
   "source": [
    "# Можо также визульно убедиться, что распределения \"почти нормальное\".\n",
    "plt.hist(Y - Y_pred, bins=50)\n",
    "plt.show()"
   ]
  },
  {
   "cell_type": "code",
   "execution_count": 26,
   "metadata": {},
   "outputs": [],
   "source": [
    "# Сохраним обученную нейронную сеть, название файла можно выбрать любое, расширение - h5.\n",
    "model.save('SimpleNeuralNetwork.h5')"
   ]
  }
 ],
 "metadata": {
  "kernelspec": {
   "display_name": "Python 3",
   "language": "python",
   "name": "python3"
  },
  "language_info": {
   "codemirror_mode": {
    "name": "ipython",
    "version": 3
   },
   "file_extension": ".py",
   "mimetype": "text/x-python",
   "name": "python",
   "nbconvert_exporter": "python",
   "pygments_lexer": "ipython3",
   "version": "3.7.6"
  }
 },
 "nbformat": 4,
 "nbformat_minor": 2
}
