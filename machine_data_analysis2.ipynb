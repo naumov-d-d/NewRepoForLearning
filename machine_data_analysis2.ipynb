{
 "cells": [
  {
   "cell_type": "code",
   "execution_count": 1,
   "metadata": {
    "scrolled": false
   },
   "outputs": [
    {
     "name": "stderr",
     "output_type": "stream",
     "text": [
      "Using TensorFlow backend.\n"
     ]
    }
   ],
   "source": [
    "# Загрузка зависимостей\n",
    "import numpy\n",
    "import pandas\n",
    "import matplotlib.pyplot as plt\n",
    "import keras\n",
    "from keras.models import Sequential\n",
    "from keras.layers import Dense\n",
    "from sklearn.preprocessing import StandardScaler\n",
    "from sklearn.preprocessing import MinMaxScaler\n",
    "from sklearn.model_selection import train_test_split\n",
    "from sklearn.metrics import mean_squared_error\n",
    "from scipy import stats\n",
    "from statsmodels.graphics.gofplots import qqplot"
   ]
  },
  {
   "cell_type": "code",
   "execution_count": 2,
   "metadata": {
    "scrolled": true
   },
   "outputs": [
    {
     "data": {
      "text/html": [
       "<div>\n",
       "<style scoped>\n",
       "    .dataframe tbody tr th:only-of-type {\n",
       "        vertical-align: middle;\n",
       "    }\n",
       "\n",
       "    .dataframe tbody tr th {\n",
       "        vertical-align: top;\n",
       "    }\n",
       "\n",
       "    .dataframe thead th {\n",
       "        text-align: right;\n",
       "    }\n",
       "</style>\n",
       "<table border=\"1\" class=\"dataframe\">\n",
       "  <thead>\n",
       "    <tr style=\"text-align: right;\">\n",
       "      <th></th>\n",
       "      <th>Unnamed: 0</th>\n",
       "      <th>price</th>\n",
       "      <th>totsp</th>\n",
       "      <th>livesp</th>\n",
       "      <th>kitsp</th>\n",
       "      <th>dist</th>\n",
       "      <th>metrdist</th>\n",
       "      <th>walk</th>\n",
       "      <th>brick</th>\n",
       "      <th>floor</th>\n",
       "      <th>1</th>\n",
       "      <th>2</th>\n",
       "      <th>3</th>\n",
       "      <th>4</th>\n",
       "      <th>5</th>\n",
       "      <th>6</th>\n",
       "      <th>7</th>\n",
       "      <th>8</th>\n",
       "    </tr>\n",
       "  </thead>\n",
       "  <tbody>\n",
       "    <tr>\n",
       "      <th>0</th>\n",
       "      <td>0</td>\n",
       "      <td>0.209515</td>\n",
       "      <td>0.305476</td>\n",
       "      <td>0.05</td>\n",
       "      <td>0.05</td>\n",
       "      <td>0.678571</td>\n",
       "      <td>0.572837</td>\n",
       "      <td>1</td>\n",
       "      <td>1</td>\n",
       "      <td>1</td>\n",
       "      <td>0</td>\n",
       "      <td>0</td>\n",
       "      <td>1</td>\n",
       "      <td>0</td>\n",
       "      <td>0</td>\n",
       "      <td>0</td>\n",
       "      <td>0</td>\n",
       "      <td>0</td>\n",
       "    </tr>\n",
       "    <tr>\n",
       "      <th>1</th>\n",
       "      <td>1</td>\n",
       "      <td>0.176091</td>\n",
       "      <td>0.000000</td>\n",
       "      <td>0.05</td>\n",
       "      <td>0.05</td>\n",
       "      <td>0.750000</td>\n",
       "      <td>0.572837</td>\n",
       "      <td>1</td>\n",
       "      <td>0</td>\n",
       "      <td>1</td>\n",
       "      <td>0</td>\n",
       "      <td>0</td>\n",
       "      <td>0</td>\n",
       "      <td>0</td>\n",
       "      <td>0</td>\n",
       "      <td>1</td>\n",
       "      <td>0</td>\n",
       "      <td>0</td>\n",
       "    </tr>\n",
       "    <tr>\n",
       "      <th>2</th>\n",
       "      <td>2</td>\n",
       "      <td>0.408240</td>\n",
       "      <td>0.347262</td>\n",
       "      <td>0.05</td>\n",
       "      <td>0.05</td>\n",
       "      <td>0.821429</td>\n",
       "      <td>0.254805</td>\n",
       "      <td>1</td>\n",
       "      <td>1</td>\n",
       "      <td>1</td>\n",
       "      <td>0</td>\n",
       "      <td>0</td>\n",
       "      <td>1</td>\n",
       "      <td>0</td>\n",
       "      <td>0</td>\n",
       "      <td>0</td>\n",
       "      <td>0</td>\n",
       "      <td>0</td>\n",
       "    </tr>\n",
       "    <tr>\n",
       "      <th>3</th>\n",
       "      <td>3</td>\n",
       "      <td>0.278754</td>\n",
       "      <td>0.238705</td>\n",
       "      <td>0.05</td>\n",
       "      <td>0.05</td>\n",
       "      <td>0.750000</td>\n",
       "      <td>0.572837</td>\n",
       "      <td>1</td>\n",
       "      <td>0</td>\n",
       "      <td>1</td>\n",
       "      <td>1</td>\n",
       "      <td>0</td>\n",
       "      <td>0</td>\n",
       "      <td>0</td>\n",
       "      <td>0</td>\n",
       "      <td>0</td>\n",
       "      <td>0</td>\n",
       "      <td>0</td>\n",
       "    </tr>\n",
       "    <tr>\n",
       "      <th>4</th>\n",
       "      <td>4</td>\n",
       "      <td>0.819544</td>\n",
       "      <td>0.652738</td>\n",
       "      <td>0.30</td>\n",
       "      <td>0.30</td>\n",
       "      <td>0.535714</td>\n",
       "      <td>0.572837</td>\n",
       "      <td>0</td>\n",
       "      <td>1</td>\n",
       "      <td>1</td>\n",
       "      <td>0</td>\n",
       "      <td>0</td>\n",
       "      <td>1</td>\n",
       "      <td>0</td>\n",
       "      <td>0</td>\n",
       "      <td>0</td>\n",
       "      <td>0</td>\n",
       "      <td>0</td>\n",
       "    </tr>\n",
       "    <tr>\n",
       "      <th>5</th>\n",
       "      <td>5</td>\n",
       "      <td>0.437751</td>\n",
       "      <td>0.496588</td>\n",
       "      <td>0.20</td>\n",
       "      <td>0.20</td>\n",
       "      <td>0.571429</td>\n",
       "      <td>0.572837</td>\n",
       "      <td>1</td>\n",
       "      <td>1</td>\n",
       "      <td>1</td>\n",
       "      <td>0</td>\n",
       "      <td>0</td>\n",
       "      <td>0</td>\n",
       "      <td>0</td>\n",
       "      <td>0</td>\n",
       "      <td>0</td>\n",
       "      <td>0</td>\n",
       "      <td>1</td>\n",
       "    </tr>\n",
       "    <tr>\n",
       "      <th>6</th>\n",
       "      <td>6</td>\n",
       "      <td>0.292256</td>\n",
       "      <td>0.283792</td>\n",
       "      <td>0.05</td>\n",
       "      <td>0.05</td>\n",
       "      <td>0.321429</td>\n",
       "      <td>0.752625</td>\n",
       "      <td>0</td>\n",
       "      <td>0</td>\n",
       "      <td>1</td>\n",
       "      <td>0</td>\n",
       "      <td>0</td>\n",
       "      <td>0</td>\n",
       "      <td>0</td>\n",
       "      <td>0</td>\n",
       "      <td>0</td>\n",
       "      <td>0</td>\n",
       "      <td>1</td>\n",
       "    </tr>\n",
       "    <tr>\n",
       "      <th>7</th>\n",
       "      <td>7</td>\n",
       "      <td>0.245513</td>\n",
       "      <td>0.215239</td>\n",
       "      <td>0.05</td>\n",
       "      <td>0.05</td>\n",
       "      <td>0.428571</td>\n",
       "      <td>0.430238</td>\n",
       "      <td>1</td>\n",
       "      <td>1</td>\n",
       "      <td>0</td>\n",
       "      <td>0</td>\n",
       "      <td>0</td>\n",
       "      <td>0</td>\n",
       "      <td>1</td>\n",
       "      <td>0</td>\n",
       "      <td>0</td>\n",
       "      <td>0</td>\n",
       "      <td>0</td>\n",
       "    </tr>\n",
       "    <tr>\n",
       "      <th>8</th>\n",
       "      <td>8</td>\n",
       "      <td>0.653213</td>\n",
       "      <td>0.593649</td>\n",
       "      <td>0.20</td>\n",
       "      <td>0.20</td>\n",
       "      <td>0.428571</td>\n",
       "      <td>0.430238</td>\n",
       "      <td>1</td>\n",
       "      <td>1</td>\n",
       "      <td>1</td>\n",
       "      <td>0</td>\n",
       "      <td>0</td>\n",
       "      <td>1</td>\n",
       "      <td>0</td>\n",
       "      <td>0</td>\n",
       "      <td>0</td>\n",
       "      <td>0</td>\n",
       "      <td>0</td>\n",
       "    </tr>\n",
       "    <tr>\n",
       "      <th>9</th>\n",
       "      <td>9</td>\n",
       "      <td>0.447158</td>\n",
       "      <td>0.513548</td>\n",
       "      <td>0.25</td>\n",
       "      <td>0.25</td>\n",
       "      <td>0.692857</td>\n",
       "      <td>0.752625</td>\n",
       "      <td>1</td>\n",
       "      <td>0</td>\n",
       "      <td>1</td>\n",
       "      <td>0</td>\n",
       "      <td>0</td>\n",
       "      <td>0</td>\n",
       "      <td>0</td>\n",
       "      <td>1</td>\n",
       "      <td>0</td>\n",
       "      <td>0</td>\n",
       "      <td>0</td>\n",
       "    </tr>\n",
       "  </tbody>\n",
       "</table>\n",
       "</div>"
      ],
      "text/plain": [
       "   Unnamed: 0     price     totsp  livesp  kitsp      dist  metrdist  walk  \\\n",
       "0           0  0.209515  0.305476    0.05   0.05  0.678571  0.572837     1   \n",
       "1           1  0.176091  0.000000    0.05   0.05  0.750000  0.572837     1   \n",
       "2           2  0.408240  0.347262    0.05   0.05  0.821429  0.254805     1   \n",
       "3           3  0.278754  0.238705    0.05   0.05  0.750000  0.572837     1   \n",
       "4           4  0.819544  0.652738    0.30   0.30  0.535714  0.572837     0   \n",
       "5           5  0.437751  0.496588    0.20   0.20  0.571429  0.572837     1   \n",
       "6           6  0.292256  0.283792    0.05   0.05  0.321429  0.752625     0   \n",
       "7           7  0.245513  0.215239    0.05   0.05  0.428571  0.430238     1   \n",
       "8           8  0.653213  0.593649    0.20   0.20  0.428571  0.430238     1   \n",
       "9           9  0.447158  0.513548    0.25   0.25  0.692857  0.752625     1   \n",
       "\n",
       "   brick  floor  1  2  3  4  5  6  7  8  \n",
       "0      1      1  0  0  1  0  0  0  0  0  \n",
       "1      0      1  0  0  0  0  0  1  0  0  \n",
       "2      1      1  0  0  1  0  0  0  0  0  \n",
       "3      0      1  1  0  0  0  0  0  0  0  \n",
       "4      1      1  0  0  1  0  0  0  0  0  \n",
       "5      1      1  0  0  0  0  0  0  0  1  \n",
       "6      0      1  0  0  0  0  0  0  0  1  \n",
       "7      1      0  0  0  0  1  0  0  0  0  \n",
       "8      1      1  0  0  1  0  0  0  0  0  \n",
       "9      0      1  0  0  0  0  1  0  0  0  "
      ]
     },
     "execution_count": 2,
     "metadata": {},
     "output_type": "execute_result"
    }
   ],
   "source": [
    "# Загрузка подготовленного набора данных\n",
    "dataset = pandas.read_csv('prepared_data.csv') \n",
    "dataset.head(10) # Вывод первых 10 строк"
   ]
  },
  {
   "cell_type": "code",
   "execution_count": 3,
   "metadata": {},
   "outputs": [
    {
     "data": {
      "text/html": [
       "<div>\n",
       "<style scoped>\n",
       "    .dataframe tbody tr th:only-of-type {\n",
       "        vertical-align: middle;\n",
       "    }\n",
       "\n",
       "    .dataframe tbody tr th {\n",
       "        vertical-align: top;\n",
       "    }\n",
       "\n",
       "    .dataframe thead th {\n",
       "        text-align: right;\n",
       "    }\n",
       "</style>\n",
       "<table border=\"1\" class=\"dataframe\">\n",
       "  <thead>\n",
       "    <tr style=\"text-align: right;\">\n",
       "      <th></th>\n",
       "      <th>price</th>\n",
       "      <th>totsp</th>\n",
       "      <th>livesp</th>\n",
       "      <th>kitsp</th>\n",
       "      <th>dist</th>\n",
       "      <th>metrdist</th>\n",
       "    </tr>\n",
       "  </thead>\n",
       "  <tbody>\n",
       "    <tr>\n",
       "      <th>0</th>\n",
       "      <td>0.209515</td>\n",
       "      <td>0.305476</td>\n",
       "      <td>0.05</td>\n",
       "      <td>0.05</td>\n",
       "      <td>0.678571</td>\n",
       "      <td>0.572837</td>\n",
       "    </tr>\n",
       "    <tr>\n",
       "      <th>1</th>\n",
       "      <td>0.176091</td>\n",
       "      <td>0.000000</td>\n",
       "      <td>0.05</td>\n",
       "      <td>0.05</td>\n",
       "      <td>0.750000</td>\n",
       "      <td>0.572837</td>\n",
       "    </tr>\n",
       "    <tr>\n",
       "      <th>2</th>\n",
       "      <td>0.408240</td>\n",
       "      <td>0.347262</td>\n",
       "      <td>0.05</td>\n",
       "      <td>0.05</td>\n",
       "      <td>0.821429</td>\n",
       "      <td>0.254805</td>\n",
       "    </tr>\n",
       "    <tr>\n",
       "      <th>3</th>\n",
       "      <td>0.278754</td>\n",
       "      <td>0.238705</td>\n",
       "      <td>0.05</td>\n",
       "      <td>0.05</td>\n",
       "      <td>0.750000</td>\n",
       "      <td>0.572837</td>\n",
       "    </tr>\n",
       "    <tr>\n",
       "      <th>4</th>\n",
       "      <td>0.819544</td>\n",
       "      <td>0.652738</td>\n",
       "      <td>0.30</td>\n",
       "      <td>0.30</td>\n",
       "      <td>0.535714</td>\n",
       "      <td>0.572837</td>\n",
       "    </tr>\n",
       "    <tr>\n",
       "      <th>5</th>\n",
       "      <td>0.437751</td>\n",
       "      <td>0.496588</td>\n",
       "      <td>0.20</td>\n",
       "      <td>0.20</td>\n",
       "      <td>0.571429</td>\n",
       "      <td>0.572837</td>\n",
       "    </tr>\n",
       "    <tr>\n",
       "      <th>6</th>\n",
       "      <td>0.292256</td>\n",
       "      <td>0.283792</td>\n",
       "      <td>0.05</td>\n",
       "      <td>0.05</td>\n",
       "      <td>0.321429</td>\n",
       "      <td>0.752625</td>\n",
       "    </tr>\n",
       "    <tr>\n",
       "      <th>7</th>\n",
       "      <td>0.245513</td>\n",
       "      <td>0.215239</td>\n",
       "      <td>0.05</td>\n",
       "      <td>0.05</td>\n",
       "      <td>0.428571</td>\n",
       "      <td>0.430238</td>\n",
       "    </tr>\n",
       "    <tr>\n",
       "      <th>8</th>\n",
       "      <td>0.653213</td>\n",
       "      <td>0.593649</td>\n",
       "      <td>0.20</td>\n",
       "      <td>0.20</td>\n",
       "      <td>0.428571</td>\n",
       "      <td>0.430238</td>\n",
       "    </tr>\n",
       "    <tr>\n",
       "      <th>9</th>\n",
       "      <td>0.447158</td>\n",
       "      <td>0.513548</td>\n",
       "      <td>0.25</td>\n",
       "      <td>0.25</td>\n",
       "      <td>0.692857</td>\n",
       "      <td>0.752625</td>\n",
       "    </tr>\n",
       "  </tbody>\n",
       "</table>\n",
       "</div>"
      ],
      "text/plain": [
       "      price     totsp  livesp  kitsp      dist  metrdist\n",
       "0  0.209515  0.305476    0.05   0.05  0.678571  0.572837\n",
       "1  0.176091  0.000000    0.05   0.05  0.750000  0.572837\n",
       "2  0.408240  0.347262    0.05   0.05  0.821429  0.254805\n",
       "3  0.278754  0.238705    0.05   0.05  0.750000  0.572837\n",
       "4  0.819544  0.652738    0.30   0.30  0.535714  0.572837\n",
       "5  0.437751  0.496588    0.20   0.20  0.571429  0.572837\n",
       "6  0.292256  0.283792    0.05   0.05  0.321429  0.752625\n",
       "7  0.245513  0.215239    0.05   0.05  0.428571  0.430238\n",
       "8  0.653213  0.593649    0.20   0.20  0.428571  0.430238\n",
       "9  0.447158  0.513548    0.25   0.25  0.692857  0.752625"
      ]
     },
     "execution_count": 3,
     "metadata": {},
     "output_type": "execute_result"
    }
   ],
   "source": [
    "Xx = dataset.iloc[:, [*range(1,7)]]\n",
    "Xx.head(10)"
   ]
  },
  {
   "cell_type": "code",
   "execution_count": 4,
   "metadata": {},
   "outputs": [],
   "source": [
    "# Выделение входных и выходных параметров:\n",
    "# Выходной параметр - значение столбца обработанного набора данных, соответсвующее столбцу №8 из первоначального набора данных (machine.data.csv).\n",
    "# Входные параметры - все остальные столбцы обработанного набора данных.\n",
    "# Используем .values, чтобы индексы не попали в новые переменные и в дальнейшем не мешали нам, например, при построении графиков.\n",
    "X = dataset.iloc[:, [*range(1,7)]].values\n",
    "Y = dataset['price'].values\n",
    "\n",
    "# Обратите внимание на структуру вашего обработанного файлы и измените индексы, если нужно."
   ]
  },
  {
   "cell_type": "code",
   "execution_count": 5,
   "metadata": {},
   "outputs": [],
   "source": [
    "# Разделение данных на обучающую и тестовую выборки:\n",
    "# Используем метод train_test_split библиотеки sklearn.\n",
    "# Он разделяет заданные массивы входных и выходных параметров на две части каждый.\n",
    "# Значение test_size определяет долю тестовой выборки в исходных данных.\n",
    "X_train, X_test, Y_train, Y_test = train_test_split(X, Y, test_size = 0.2)"
   ]
  },
  {
   "cell_type": "code",
   "execution_count": 6,
   "metadata": {},
   "outputs": [],
   "source": [
    "# Задаем параметры структуры нейронной сети.\n",
    "\n",
    "\n",
    "input_layer_size = 6\n",
    "\n",
    "\n",
    "first_hidden_layer_size = 30\n",
    "second_hidden_layer_size = 10\n",
    "third_hidden_layer_size = 30\n",
    "\n",
    "output_layer_size = 1\n",
    "\n",
    "\n",
    "epochs_number = 100\n",
    "batch_size = 16"
   ]
  },
  {
   "cell_type": "code",
   "execution_count": 7,
   "metadata": {
    "scrolled": false
   },
   "outputs": [],
   "source": [
    "# Создание нейронной сети прямого распространения, пока она пустая, т.е. не содержит слоёв и нейронов.\n",
    "model = Sequential()\n",
    "\n",
    "# Входной слой и первый скрытый слой, функция активации - sigmoid\n",
    "model.add(Dense(first_hidden_layer_size, input_dim=input_layer_size, activation='sigmoid'))\n",
    "\n",
    "model.add(Dense(second_hidden_layer_size, activation='sigmoid'))\n",
    "\n",
    "model.add(Dense(third_hidden_layer_size, activation='sigmoid'))\n",
    "\n",
    "\n",
    "model.add(Dense(output_layer_size, activation='linear'))"
   ]
  },
  {
   "cell_type": "code",
   "execution_count": 8,
   "metadata": {
    "scrolled": true
   },
   "outputs": [
    {
     "name": "stdout",
     "output_type": "stream",
     "text": [
      "Model: \"sequential_1\"\n",
      "_________________________________________________________________\n",
      "Layer (type)                 Output Shape              Param #   \n",
      "=================================================================\n",
      "dense_1 (Dense)              (None, 30)                210       \n",
      "_________________________________________________________________\n",
      "dense_2 (Dense)              (None, 10)                310       \n",
      "_________________________________________________________________\n",
      "dense_3 (Dense)              (None, 30)                330       \n",
      "_________________________________________________________________\n",
      "dense_4 (Dense)              (None, 1)                 31        \n",
      "=================================================================\n",
      "Total params: 881\n",
      "Trainable params: 881\n",
      "Non-trainable params: 0\n",
      "_________________________________________________________________\n"
     ]
    }
   ],
   "source": [
    "# Обзор нейронной сети, теперь в ней есть слои и нейроны.\n",
    "# Если внимательно посмотреть на количество параметров, т.е. связей между нейронами, то можно увидеть, что автоматически добавлены нейроны смещения.\n",
    "model.summary()"
   ]
  },
  {
   "cell_type": "code",
   "execution_count": 9,
   "metadata": {
    "scrolled": true
   },
   "outputs": [],
   "source": [
    "# Настройка нейронной сети.\n",
    "# Функция потерь (loss) - среднеквадратическая ошибка.\n",
    "# Оптимизатор (optimizer) - adam (в настоящий момент - это стандартный оптимизатор).\n",
    "# Указываем метрики средняя абсолютная ошибка (mean_absolute_error) и среднеквадратическая ошиба (mean_squared_error) для дальнейшего анализа.\n",
    "model.compile(loss='mean_squared_error', optimizer='adam', metrics=['mean_absolute_error', 'mean_squared_error'])"
   ]
  },
  {
   "cell_type": "code",
   "execution_count": 10,
   "metadata": {
    "scrolled": false
   },
   "outputs": [
    {
     "name": "stdout",
     "output_type": "stream",
     "text": [
      "Train on 1632 samples, validate on 408 samples\n",
      "Epoch 1/100\n",
      "1632/1632 [==============================] - 1s 401us/step - loss: 0.0249 - mean_absolute_error: 0.1202 - mean_squared_error: 0.0249 - val_loss: 0.0168 - val_mean_absolute_error: 0.1020 - val_mean_squared_error: 0.0168\n",
      "Epoch 2/100\n",
      "1632/1632 [==============================] - 0s 174us/step - loss: 0.0187 - mean_absolute_error: 0.1047 - mean_squared_error: 0.0187 - val_loss: 0.0165 - val_mean_absolute_error: 0.1018 - val_mean_squared_error: 0.0165\n",
      "Epoch 3/100\n",
      "1632/1632 [==============================] - 0s 195us/step - loss: 0.0176 - mean_absolute_error: 0.1016 - mean_squared_error: 0.0176 - val_loss: 0.0151 - val_mean_absolute_error: 0.0967 - val_mean_squared_error: 0.0151\n",
      "Epoch 4/100\n",
      "1632/1632 [==============================] - 0s 155us/step - loss: 0.0162 - mean_absolute_error: 0.0964 - mean_squared_error: 0.0162 - val_loss: 0.0150 - val_mean_absolute_error: 0.0991 - val_mean_squared_error: 0.0150\n",
      "Epoch 5/100\n",
      "1632/1632 [==============================] - 0s 171us/step - loss: 0.0137 - mean_absolute_error: 0.0890 - mean_squared_error: 0.0137 - val_loss: 0.0106 - val_mean_absolute_error: 0.0815 - val_mean_squared_error: 0.0106\n",
      "Epoch 6/100\n",
      "1632/1632 [==============================] - 0s 178us/step - loss: 0.0097 - mean_absolute_error: 0.0739 - mean_squared_error: 0.0097 - val_loss: 0.0068 - val_mean_absolute_error: 0.0630 - val_mean_squared_error: 0.0068\n",
      "Epoch 7/100\n",
      "1632/1632 [==============================] - 0s 146us/step - loss: 0.0063 - mean_absolute_error: 0.0584 - mean_squared_error: 0.0063 - val_loss: 0.0046 - val_mean_absolute_error: 0.0512 - val_mean_squared_error: 0.0046\n",
      "Epoch 8/100\n",
      "1632/1632 [==============================] - 0s 152us/step - loss: 0.0048 - mean_absolute_error: 0.0509 - mean_squared_error: 0.0048 - val_loss: 0.0041 - val_mean_absolute_error: 0.0481 - val_mean_squared_error: 0.0041\n",
      "Epoch 9/100\n",
      "1632/1632 [==============================] - 0s 173us/step - loss: 0.0044 - mean_absolute_error: 0.0502 - mean_squared_error: 0.0044 - val_loss: 0.0036 - val_mean_absolute_error: 0.0447 - val_mean_squared_error: 0.0036\n",
      "Epoch 10/100\n",
      "1632/1632 [==============================] - 0s 170us/step - loss: 0.0041 - mean_absolute_error: 0.0478 - mean_squared_error: 0.0041 - val_loss: 0.0034 - val_mean_absolute_error: 0.0438 - val_mean_squared_error: 0.0034\n",
      "Epoch 11/100\n",
      "1632/1632 [==============================] - 0s 141us/step - loss: 0.0038 - mean_absolute_error: 0.0458 - mean_squared_error: 0.0038 - val_loss: 0.0033 - val_mean_absolute_error: 0.0438 - val_mean_squared_error: 0.0033\n",
      "Epoch 12/100\n",
      "1632/1632 [==============================] - 0s 179us/step - loss: 0.0035 - mean_absolute_error: 0.0449 - mean_squared_error: 0.0035 - val_loss: 0.0029 - val_mean_absolute_error: 0.0404 - val_mean_squared_error: 0.0029\n",
      "Epoch 13/100\n",
      "1632/1632 [==============================] - 0s 167us/step - loss: 0.0033 - mean_absolute_error: 0.0431 - mean_squared_error: 0.0033 - val_loss: 0.0028 - val_mean_absolute_error: 0.0400 - val_mean_squared_error: 0.0028\n",
      "Epoch 14/100\n",
      "1632/1632 [==============================] - 0s 176us/step - loss: 0.0030 - mean_absolute_error: 0.0412 - mean_squared_error: 0.0030 - val_loss: 0.0024 - val_mean_absolute_error: 0.0371 - val_mean_squared_error: 0.0024\n",
      "Epoch 15/100\n",
      "1632/1632 [==============================] - 0s 152us/step - loss: 0.0027 - mean_absolute_error: 0.0392 - mean_squared_error: 0.0027 - val_loss: 0.0023 - val_mean_absolute_error: 0.0364 - val_mean_squared_error: 0.0023\n",
      "Epoch 16/100\n",
      "1632/1632 [==============================] - 0s 176us/step - loss: 0.0025 - mean_absolute_error: 0.0382 - mean_squared_error: 0.0025 - val_loss: 0.0020 - val_mean_absolute_error: 0.0339 - val_mean_squared_error: 0.0020\n",
      "Epoch 17/100\n",
      "1632/1632 [==============================] - 0s 163us/step - loss: 0.0022 - mean_absolute_error: 0.0355 - mean_squared_error: 0.0022 - val_loss: 0.0018 - val_mean_absolute_error: 0.0322 - val_mean_squared_error: 0.0018\n",
      "Epoch 18/100\n",
      "1632/1632 [==============================] - 0s 146us/step - loss: 0.0019 - mean_absolute_error: 0.0331 - mean_squared_error: 0.0019 - val_loss: 0.0017 - val_mean_absolute_error: 0.0316 - val_mean_squared_error: 0.0017\n",
      "Epoch 19/100\n",
      "1632/1632 [==============================] - 0s 167us/step - loss: 0.0017 - mean_absolute_error: 0.0314 - mean_squared_error: 0.0017 - val_loss: 0.0014 - val_mean_absolute_error: 0.0282 - val_mean_squared_error: 0.0014\n",
      "Epoch 20/100\n",
      "1632/1632 [==============================] - 0s 143us/step - loss: 0.0015 - mean_absolute_error: 0.0291 - mean_squared_error: 0.0015 - val_loss: 0.0013 - val_mean_absolute_error: 0.0271 - val_mean_squared_error: 0.0013\n",
      "Epoch 21/100\n",
      "1632/1632 [==============================] - 0s 163us/step - loss: 0.0013 - mean_absolute_error: 0.0273 - mean_squared_error: 0.0013 - val_loss: 0.0012 - val_mean_absolute_error: 0.0263 - val_mean_squared_error: 0.0012\n",
      "Epoch 22/100\n",
      "1632/1632 [==============================] - 0s 170us/step - loss: 0.0011 - mean_absolute_error: 0.0247 - mean_squared_error: 0.0011 - val_loss: 8.2995e-04 - val_mean_absolute_error: 0.0218 - val_mean_squared_error: 8.2995e-04\n",
      "Epoch 23/100\n",
      "1632/1632 [==============================] - 0s 143us/step - loss: 8.7214e-04 - mean_absolute_error: 0.0223 - mean_squared_error: 8.7214e-04 - val_loss: 6.9100e-04 - val_mean_absolute_error: 0.0200 - val_mean_squared_error: 6.9100e-04\n",
      "Epoch 24/100\n",
      "1632/1632 [==============================] - 0s 164us/step - loss: 7.1827e-04 - mean_absolute_error: 0.0202 - mean_squared_error: 7.1827e-04 - val_loss: 5.6122e-04 - val_mean_absolute_error: 0.0180 - val_mean_squared_error: 5.6122e-04\n",
      "Epoch 25/100\n",
      "1632/1632 [==============================] - 0s 139us/step - loss: 6.2454e-04 - mean_absolute_error: 0.0190 - mean_squared_error: 6.2454e-04 - val_loss: 4.6577e-04 - val_mean_absolute_error: 0.0165 - val_mean_squared_error: 4.6577e-04\n",
      "Epoch 26/100\n",
      "1632/1632 [==============================] - 0s 177us/step - loss: 5.0824e-04 - mean_absolute_error: 0.0169 - mean_squared_error: 5.0824e-04 - val_loss: 3.8070e-04 - val_mean_absolute_error: 0.0149 - val_mean_squared_error: 3.8070e-04\n",
      "Epoch 27/100\n",
      "1632/1632 [==============================] - 0s 144us/step - loss: 3.6758e-04 - mean_absolute_error: 0.0143 - mean_squared_error: 3.6758e-04 - val_loss: 3.4133e-04 - val_mean_absolute_error: 0.0145 - val_mean_squared_error: 3.4133e-04\n",
      "Epoch 28/100\n",
      "1632/1632 [==============================] - 0s 170us/step - loss: 3.0421e-04 - mean_absolute_error: 0.0130 - mean_squared_error: 3.0421e-04 - val_loss: 2.7603e-04 - val_mean_absolute_error: 0.0131 - val_mean_squared_error: 2.7603e-04\n",
      "Epoch 29/100\n",
      "1632/1632 [==============================] - 0s 167us/step - loss: 2.2790e-04 - mean_absolute_error: 0.0112 - mean_squared_error: 2.2790e-04 - val_loss: 1.8070e-04 - val_mean_absolute_error: 0.0103 - val_mean_squared_error: 1.8070e-04\n",
      "Epoch 30/100\n",
      "1632/1632 [==============================] - 0s 142us/step - loss: 1.8604e-04 - mean_absolute_error: 0.0103 - mean_squared_error: 1.8604e-04 - val_loss: 1.3757e-04 - val_mean_absolute_error: 0.0089 - val_mean_squared_error: 1.3757e-04\n",
      "Epoch 31/100\n",
      "1632/1632 [==============================] - 0s 158us/step - loss: 1.3553e-04 - mean_absolute_error: 0.0086 - mean_squared_error: 1.3553e-04 - val_loss: 1.0731e-04 - val_mean_absolute_error: 0.0077 - val_mean_squared_error: 1.0731e-04\n",
      "Epoch 32/100\n",
      "1632/1632 [==============================] - 0s 147us/step - loss: 1.0242e-04 - mean_absolute_error: 0.0074 - mean_squared_error: 1.0242e-04 - val_loss: 7.9530e-05 - val_mean_absolute_error: 0.0066 - val_mean_squared_error: 7.9530e-05\n",
      "Epoch 33/100\n",
      "1632/1632 [==============================] - 0s 170us/step - loss: 9.0283e-05 - mean_absolute_error: 0.0070 - mean_squared_error: 9.0283e-05 - val_loss: 6.2460e-05 - val_mean_absolute_error: 0.0057 - val_mean_squared_error: 6.2460e-05\n",
      "Epoch 34/100\n",
      "1632/1632 [==============================] - 0s 136us/step - loss: 6.3153e-05 - mean_absolute_error: 0.0057 - mean_squared_error: 6.3153e-05 - val_loss: 6.7778e-05 - val_mean_absolute_error: 0.0061 - val_mean_squared_error: 6.7778e-05\n",
      "Epoch 35/100\n",
      "1632/1632 [==============================] - 0s 157us/step - loss: 5.1443e-05 - mean_absolute_error: 0.0051 - mean_squared_error: 5.1443e-05 - val_loss: 4.1575e-05 - val_mean_absolute_error: 0.0046 - val_mean_squared_error: 4.1575e-05\n",
      "Epoch 36/100\n",
      "1632/1632 [==============================] - 0s 167us/step - loss: 4.2092e-05 - mean_absolute_error: 0.0046 - mean_squared_error: 4.2092e-05 - val_loss: 3.4110e-05 - val_mean_absolute_error: 0.0042 - val_mean_squared_error: 3.4110e-05\n",
      "Epoch 37/100\n",
      "1632/1632 [==============================] - 0s 157us/step - loss: 3.3019e-05 - mean_absolute_error: 0.0040 - mean_squared_error: 3.3019e-05 - val_loss: 2.5760e-05 - val_mean_absolute_error: 0.0033 - val_mean_squared_error: 2.5760e-05\n",
      "Epoch 38/100\n",
      "1632/1632 [==============================] - 0s 164us/step - loss: 2.8979e-05 - mean_absolute_error: 0.0037 - mean_squared_error: 2.8979e-05 - val_loss: 3.2468e-05 - val_mean_absolute_error: 0.0039 - val_mean_squared_error: 3.2468e-05\n",
      "Epoch 39/100\n",
      "1632/1632 [==============================] - 0s 139us/step - loss: 2.4239e-05 - mean_absolute_error: 0.0032 - mean_squared_error: 2.4239e-05 - val_loss: 2.0891e-05 - val_mean_absolute_error: 0.0030 - val_mean_squared_error: 2.0891e-05\n",
      "Epoch 40/100\n",
      "1632/1632 [==============================] - 0s 161us/step - loss: 2.2867e-05 - mean_absolute_error: 0.0032 - mean_squared_error: 2.2867e-05 - val_loss: 2.2649e-05 - val_mean_absolute_error: 0.0029 - val_mean_squared_error: 2.2649e-05\n",
      "Epoch 41/100\n",
      "1632/1632 [==============================] - 0s 145us/step - loss: 2.2892e-05 - mean_absolute_error: 0.0032 - mean_squared_error: 2.2892e-05 - val_loss: 2.0056e-05 - val_mean_absolute_error: 0.0027 - val_mean_squared_error: 2.0056e-05\n",
      "Epoch 42/100\n",
      "1632/1632 [==============================] - 0s 162us/step - loss: 2.0064e-05 - mean_absolute_error: 0.0030 - mean_squared_error: 2.0064e-05 - val_loss: 1.8046e-05 - val_mean_absolute_error: 0.0026 - val_mean_squared_error: 1.8046e-05\n",
      "Epoch 43/100\n",
      "1632/1632 [==============================] - 0s 165us/step - loss: 2.0272e-05 - mean_absolute_error: 0.0029 - mean_squared_error: 2.0272e-05 - val_loss: 1.8467e-05 - val_mean_absolute_error: 0.0029 - val_mean_squared_error: 1.8467e-05\n",
      "Epoch 44/100\n",
      "1632/1632 [==============================] - 0s 154us/step - loss: 2.1546e-05 - mean_absolute_error: 0.0032 - mean_squared_error: 2.1546e-05 - val_loss: 2.6615e-05 - val_mean_absolute_error: 0.0033 - val_mean_squared_error: 2.6615e-05\n",
      "Epoch 45/100\n",
      "1632/1632 [==============================] - 0s 166us/step - loss: 2.2096e-05 - mean_absolute_error: 0.0032 - mean_squared_error: 2.2096e-05 - val_loss: 1.7754e-05 - val_mean_absolute_error: 0.0025 - val_mean_squared_error: 1.7754e-05\n",
      "Epoch 46/100\n",
      "1632/1632 [==============================] - 0s 140us/step - loss: 1.9995e-05 - mean_absolute_error: 0.0030 - mean_squared_error: 1.9995e-05 - val_loss: 1.7682e-05 - val_mean_absolute_error: 0.0025 - val_mean_squared_error: 1.7682e-05\n",
      "Epoch 47/100\n",
      "1632/1632 [==============================] - 0s 178us/step - loss: 2.0418e-05 - mean_absolute_error: 0.0030 - mean_squared_error: 2.0418e-05 - val_loss: 1.7549e-05 - val_mean_absolute_error: 0.0027 - val_mean_squared_error: 1.7549e-05\n",
      "Epoch 48/100\n",
      "1632/1632 [==============================] - 0s 164us/step - loss: 1.9886e-05 - mean_absolute_error: 0.0030 - mean_squared_error: 1.9886e-05 - val_loss: 1.7248e-05 - val_mean_absolute_error: 0.0026 - val_mean_squared_error: 1.7248e-05\n",
      "Epoch 49/100\n",
      "1632/1632 [==============================] - 0s 148us/step - loss: 2.0017e-05 - mean_absolute_error: 0.0030 - mean_squared_error: 2.0017e-05 - val_loss: 1.7819e-05 - val_mean_absolute_error: 0.0028 - val_mean_squared_error: 1.7819e-05\n",
      "Epoch 50/100\n",
      "1632/1632 [==============================] - 0s 163us/step - loss: 2.0966e-05 - mean_absolute_error: 0.0031 - mean_squared_error: 2.0966e-05 - val_loss: 2.2273e-05 - val_mean_absolute_error: 0.0028 - val_mean_squared_error: 2.2273e-05\n",
      "Epoch 51/100\n",
      "1632/1632 [==============================] - 0s 136us/step - loss: 2.1803e-05 - mean_absolute_error: 0.0033 - mean_squared_error: 2.1803e-05 - val_loss: 2.9277e-05 - val_mean_absolute_error: 0.0038 - val_mean_squared_error: 2.9277e-05\n",
      "Epoch 52/100\n",
      "1632/1632 [==============================] - 0s 149us/step - loss: 2.0331e-05 - mean_absolute_error: 0.0031 - mean_squared_error: 2.0331e-05 - val_loss: 2.2045e-05 - val_mean_absolute_error: 0.0028 - val_mean_squared_error: 2.2045e-05\n",
      "Epoch 53/100\n",
      "1632/1632 [==============================] - 0s 143us/step - loss: 1.9847e-05 - mean_absolute_error: 0.0030 - mean_squared_error: 1.9847e-05 - val_loss: 1.7942e-05 - val_mean_absolute_error: 0.0025 - val_mean_squared_error: 1.7942e-05\n",
      "Epoch 54/100\n",
      "1632/1632 [==============================] - 0s 138us/step - loss: 2.1554e-05 - mean_absolute_error: 0.0032 - mean_squared_error: 2.1554e-05 - val_loss: 1.7065e-05 - val_mean_absolute_error: 0.0027 - val_mean_squared_error: 1.7065e-05\n",
      "Epoch 55/100\n",
      "1632/1632 [==============================] - 0s 159us/step - loss: 2.4667e-05 - mean_absolute_error: 0.0035 - mean_squared_error: 2.4667e-05 - val_loss: 1.6647e-05 - val_mean_absolute_error: 0.0025 - val_mean_squared_error: 1.6647e-05\n",
      "Epoch 56/100\n",
      "1632/1632 [==============================] - 0s 148us/step - loss: 2.1218e-05 - mean_absolute_error: 0.0032 - mean_squared_error: 2.1218e-05 - val_loss: 3.6498e-05 - val_mean_absolute_error: 0.0052 - val_mean_squared_error: 3.6498e-05\n",
      "Epoch 57/100\n",
      "1632/1632 [==============================] - 0s 150us/step - loss: 2.1325e-05 - mean_absolute_error: 0.0032 - mean_squared_error: 2.1325e-05 - val_loss: 1.7805e-05 - val_mean_absolute_error: 0.0031 - val_mean_squared_error: 1.7805e-05\n",
      "Epoch 58/100\n",
      "1632/1632 [==============================] - 0s 167us/step - loss: 2.2444e-05 - mean_absolute_error: 0.0034 - mean_squared_error: 2.2444e-05 - val_loss: 3.4209e-05 - val_mean_absolute_error: 0.0044 - val_mean_squared_error: 3.4209e-05\n",
      "Epoch 59/100\n",
      "1632/1632 [==============================] - 0s 144us/step - loss: 2.5766e-05 - mean_absolute_error: 0.0037 - mean_squared_error: 2.5766e-05 - val_loss: 4.2035e-05 - val_mean_absolute_error: 0.0053 - val_mean_squared_error: 4.2035e-05\n",
      "Epoch 60/100\n",
      "1632/1632 [==============================] - 0s 178us/step - loss: 2.2824e-05 - mean_absolute_error: 0.0034 - mean_squared_error: 2.2824e-05 - val_loss: 1.6499e-05 - val_mean_absolute_error: 0.0024 - val_mean_squared_error: 1.6499e-05\n",
      "Epoch 61/100\n",
      "1632/1632 [==============================] - 0s 158us/step - loss: 2.2562e-05 - mean_absolute_error: 0.0034 - mean_squared_error: 2.2562e-05 - val_loss: 2.5801e-05 - val_mean_absolute_error: 0.0042 - val_mean_squared_error: 2.5801e-05\n",
      "Epoch 62/100\n",
      "1632/1632 [==============================] - 0s 185us/step - loss: 1.8668e-05 - mean_absolute_error: 0.0029 - mean_squared_error: 1.8668e-05 - val_loss: 2.0611e-05 - val_mean_absolute_error: 0.0036 - val_mean_squared_error: 2.0611e-05\n",
      "Epoch 63/100\n",
      "1632/1632 [==============================] - 0s 149us/step - loss: 2.6093e-05 - mean_absolute_error: 0.0039 - mean_squared_error: 2.6093e-05 - val_loss: 2.3295e-05 - val_mean_absolute_error: 0.0038 - val_mean_squared_error: 2.3295e-05\n",
      "Epoch 64/100\n",
      "1632/1632 [==============================] - 0s 163us/step - loss: 2.2536e-05 - mean_absolute_error: 0.0034 - mean_squared_error: 2.2536e-05 - val_loss: 4.9054e-05 - val_mean_absolute_error: 0.0059 - val_mean_squared_error: 4.9054e-05\n",
      "Epoch 65/100\n",
      "1632/1632 [==============================] - 0s 145us/step - loss: 2.6709e-05 - mean_absolute_error: 0.0038 - mean_squared_error: 2.6709e-05 - val_loss: 1.7584e-05 - val_mean_absolute_error: 0.0030 - val_mean_squared_error: 1.7584e-05\n",
      "Epoch 66/100\n",
      "1632/1632 [==============================] - 0s 168us/step - loss: 1.9783e-05 - mean_absolute_error: 0.0031 - mean_squared_error: 1.9783e-05 - val_loss: 1.8288e-05 - val_mean_absolute_error: 0.0032 - val_mean_squared_error: 1.8288e-05\n",
      "Epoch 67/100\n",
      "1632/1632 [==============================] - 0s 168us/step - loss: 2.7500e-05 - mean_absolute_error: 0.0039 - mean_squared_error: 2.7500e-05 - val_loss: 2.0942e-05 - val_mean_absolute_error: 0.0035 - val_mean_squared_error: 2.0942e-05\n",
      "Epoch 68/100\n",
      "1632/1632 [==============================] - 0s 138us/step - loss: 2.2821e-05 - mean_absolute_error: 0.0034 - mean_squared_error: 2.2821e-05 - val_loss: 4.0534e-05 - val_mean_absolute_error: 0.0052 - val_mean_squared_error: 4.0534e-05\n",
      "Epoch 69/100\n",
      "1632/1632 [==============================] - 0s 138us/step - loss: 2.5150e-05 - mean_absolute_error: 0.0037 - mean_squared_error: 2.5150e-05 - val_loss: 1.9605e-05 - val_mean_absolute_error: 0.0034 - val_mean_squared_error: 1.9605e-05\n",
      "Epoch 70/100\n",
      "1632/1632 [==============================] - 0s 159us/step - loss: 2.0755e-05 - mean_absolute_error: 0.0032 - mean_squared_error: 2.0755e-05 - val_loss: 1.6057e-05 - val_mean_absolute_error: 0.0024 - val_mean_squared_error: 1.6057e-05\n",
      "Epoch 71/100\n",
      "1632/1632 [==============================] - 0s 164us/step - loss: 2.1142e-05 - mean_absolute_error: 0.0033 - mean_squared_error: 2.1142e-05 - val_loss: 3.8247e-05 - val_mean_absolute_error: 0.0050 - val_mean_squared_error: 3.8247e-05\n",
      "Epoch 72/100\n",
      "1632/1632 [==============================] - 0s 166us/step - loss: 2.2786e-05 - mean_absolute_error: 0.0035 - mean_squared_error: 2.2786e-05 - val_loss: 2.3522e-05 - val_mean_absolute_error: 0.0040 - val_mean_squared_error: 2.3522e-05\n",
      "Epoch 73/100\n",
      "1632/1632 [==============================] - 0s 141us/step - loss: 1.9255e-05 - mean_absolute_error: 0.0030 - mean_squared_error: 1.9255e-05 - val_loss: 1.6124e-05 - val_mean_absolute_error: 0.0024 - val_mean_squared_error: 1.6124e-05\n",
      "Epoch 74/100\n",
      "1632/1632 [==============================] - 0s 144us/step - loss: 3.5198e-05 - mean_absolute_error: 0.0044 - mean_squared_error: 3.5198e-05 - val_loss: 5.2222e-05 - val_mean_absolute_error: 0.0063 - val_mean_squared_error: 5.2222e-05\n",
      "Epoch 75/100\n",
      "1632/1632 [==============================] - 0s 175us/step - loss: 2.1969e-05 - mean_absolute_error: 0.0034 - mean_squared_error: 2.1969e-05 - val_loss: 1.5150e-05 - val_mean_absolute_error: 0.0027 - val_mean_squared_error: 1.5150e-05\n",
      "Epoch 76/100\n",
      "1632/1632 [==============================] - 0s 163us/step - loss: 2.0093e-05 - mean_absolute_error: 0.0032 - mean_squared_error: 2.0093e-05 - val_loss: 1.4583e-05 - val_mean_absolute_error: 0.0024 - val_mean_squared_error: 1.4583e-05\n",
      "Epoch 77/100\n",
      "1632/1632 [==============================] - 0s 172us/step - loss: 2.4767e-05 - mean_absolute_error: 0.0036 - mean_squared_error: 2.4767e-05 - val_loss: 1.4733e-05 - val_mean_absolute_error: 0.0023 - val_mean_squared_error: 1.4733e-05\n",
      "Epoch 78/100\n",
      "1632/1632 [==============================] - 0s 148us/step - loss: 1.8462e-05 - mean_absolute_error: 0.0030 - mean_squared_error: 1.8462e-05 - val_loss: 1.4523e-05 - val_mean_absolute_error: 0.0023 - val_mean_squared_error: 1.4523e-05\n",
      "Epoch 79/100\n",
      "1632/1632 [==============================] - 0s 175us/step - loss: 2.1022e-05 - mean_absolute_error: 0.0032 - mean_squared_error: 2.1022e-05 - val_loss: 1.8700e-05 - val_mean_absolute_error: 0.0034 - val_mean_squared_error: 1.8700e-05\n",
      "Epoch 80/100\n",
      "1632/1632 [==============================] - 0s 135us/step - loss: 1.9634e-05 - mean_absolute_error: 0.0031 - mean_squared_error: 1.9634e-05 - val_loss: 1.9656e-05 - val_mean_absolute_error: 0.0027 - val_mean_squared_error: 1.9656e-05\n",
      "Epoch 81/100\n",
      "1632/1632 [==============================] - 0s 151us/step - loss: 2.1756e-05 - mean_absolute_error: 0.0033 - mean_squared_error: 2.1756e-05 - val_loss: 1.4226e-05 - val_mean_absolute_error: 0.0025 - val_mean_squared_error: 1.4226e-05\n",
      "Epoch 82/100\n",
      "1632/1632 [==============================] - 0s 142us/step - loss: 2.5448e-05 - mean_absolute_error: 0.0037 - mean_squared_error: 2.5448e-05 - val_loss: 3.3353e-05 - val_mean_absolute_error: 0.0046 - val_mean_squared_error: 3.3353e-05\n",
      "Epoch 83/100\n",
      "1632/1632 [==============================] - 0s 165us/step - loss: 1.9673e-05 - mean_absolute_error: 0.0031 - mean_squared_error: 1.9673e-05 - val_loss: 1.4527e-05 - val_mean_absolute_error: 0.0026 - val_mean_squared_error: 1.4527e-05\n",
      "Epoch 84/100\n",
      "1632/1632 [==============================] - 0s 142us/step - loss: 2.4446e-05 - mean_absolute_error: 0.0037 - mean_squared_error: 2.4446e-05 - val_loss: 1.6589e-05 - val_mean_absolute_error: 0.0030 - val_mean_squared_error: 1.6589e-05\n",
      "Epoch 85/100\n",
      "1632/1632 [==============================] - 0s 173us/step - loss: 1.8852e-05 - mean_absolute_error: 0.0031 - mean_squared_error: 1.8852e-05 - val_loss: 1.8001e-05 - val_mean_absolute_error: 0.0025 - val_mean_squared_error: 1.8001e-05\n",
      "Epoch 86/100\n",
      "1632/1632 [==============================] - 0s 138us/step - loss: 3.2678e-05 - mean_absolute_error: 0.0043 - mean_squared_error: 3.2678e-05 - val_loss: 1.9412e-05 - val_mean_absolute_error: 0.0027 - val_mean_squared_error: 1.9412e-05\n",
      "Epoch 87/100\n",
      "1632/1632 [==============================] - 0s 149us/step - loss: 2.2811e-05 - mean_absolute_error: 0.0035 - mean_squared_error: 2.2811e-05 - val_loss: 2.1082e-05 - val_mean_absolute_error: 0.0030 - val_mean_squared_error: 2.1082e-05\n",
      "Epoch 88/100\n",
      "1632/1632 [==============================] - 0s 162us/step - loss: 1.6289e-05 - mean_absolute_error: 0.0027 - mean_squared_error: 1.6289e-05 - val_loss: 1.4659e-05 - val_mean_absolute_error: 0.0026 - val_mean_squared_error: 1.4659e-05\n",
      "Epoch 89/100\n",
      "1632/1632 [==============================] - 0s 137us/step - loss: 1.7527e-05 - mean_absolute_error: 0.0029 - mean_squared_error: 1.7527e-05 - val_loss: 1.3349e-05 - val_mean_absolute_error: 0.0024 - val_mean_squared_error: 1.3349e-05\n",
      "Epoch 90/100\n",
      "1632/1632 [==============================] - 0s 140us/step - loss: 1.6886e-05 - mean_absolute_error: 0.0029 - mean_squared_error: 1.6886e-05 - val_loss: 1.6029e-05 - val_mean_absolute_error: 0.0022 - val_mean_squared_error: 1.6029e-05\n",
      "Epoch 91/100\n",
      "1632/1632 [==============================] - 0s 157us/step - loss: 2.1428e-05 - mean_absolute_error: 0.0032 - mean_squared_error: 2.1428e-05 - val_loss: 1.4327e-05 - val_mean_absolute_error: 0.0022 - val_mean_squared_error: 1.4327e-05\n",
      "Epoch 92/100\n",
      "1632/1632 [==============================] - 0s 140us/step - loss: 2.1500e-05 - mean_absolute_error: 0.0034 - mean_squared_error: 2.1500e-05 - val_loss: 4.1862e-05 - val_mean_absolute_error: 0.0055 - val_mean_squared_error: 4.1862e-05\n",
      "Epoch 93/100\n",
      "1632/1632 [==============================] - 0s 160us/step - loss: 2.6394e-05 - mean_absolute_error: 0.0039 - mean_squared_error: 2.6394e-05 - val_loss: 1.9750e-05 - val_mean_absolute_error: 0.0029 - val_mean_squared_error: 1.9750e-05\n",
      "Epoch 94/100\n",
      "1632/1632 [==============================] - 0s 141us/step - loss: 1.7953e-05 - mean_absolute_error: 0.0030 - mean_squared_error: 1.7953e-05 - val_loss: 1.8092e-05 - val_mean_absolute_error: 0.0026 - val_mean_squared_error: 1.8092e-05\n",
      "Epoch 95/100\n",
      "1632/1632 [==============================] - 0s 163us/step - loss: 2.1450e-05 - mean_absolute_error: 0.0034 - mean_squared_error: 2.1450e-05 - val_loss: 1.3133e-05 - val_mean_absolute_error: 0.0024 - val_mean_squared_error: 1.3133e-05\n",
      "Epoch 96/100\n",
      "1632/1632 [==============================] - 0s 146us/step - loss: 1.7993e-05 - mean_absolute_error: 0.0030 - mean_squared_error: 1.7993e-05 - val_loss: 1.7545e-05 - val_mean_absolute_error: 0.0025 - val_mean_squared_error: 1.7545e-05\n",
      "Epoch 97/100\n",
      "1632/1632 [==============================] - 0s 165us/step - loss: 1.5625e-05 - mean_absolute_error: 0.0027 - mean_squared_error: 1.5625e-05 - val_loss: 1.4407e-05 - val_mean_absolute_error: 0.0022 - val_mean_squared_error: 1.4407e-05\n",
      "Epoch 98/100\n",
      "1632/1632 [==============================] - 0s 174us/step - loss: 1.7083e-05 - mean_absolute_error: 0.0029 - mean_squared_error: 1.7083e-05 - val_loss: 1.3100e-05 - val_mean_absolute_error: 0.0025 - val_mean_squared_error: 1.3100e-05\n",
      "Epoch 99/100\n",
      "1632/1632 [==============================] - 0s 148us/step - loss: 2.7327e-05 - mean_absolute_error: 0.0039 - mean_squared_error: 2.7327e-05 - val_loss: 1.2654e-05 - val_mean_absolute_error: 0.0023 - val_mean_squared_error: 1.2654e-05\n",
      "Epoch 100/100\n",
      "1632/1632 [==============================] - 0s 165us/step - loss: 1.6546e-05 - mean_absolute_error: 0.0028 - mean_squared_error: 1.6546e-05 - val_loss: 1.3167e-05 - val_mean_absolute_error: 0.0021 - val_mean_squared_error: 1.3167e-05\n"
     ]
    }
   ],
   "source": [
    "# Обучение нейронной сети.\n",
    "# На вход передаем обучающие и тестовые выборки, количество эпох и размер батча.\n",
    "# На выходе получаем объект с историей обучения, который далее будем анализировать.\n",
    "history = model.fit(X_train, Y_train, validation_data = (X_test,Y_test), epochs=epochs_number, batch_size=batch_size)"
   ]
  },
  {
   "cell_type": "code",
   "execution_count": 11,
   "metadata": {},
   "outputs": [
    {
     "data": {
      "image/png": "[encoded data removed]",
      "text/plain": [
       "<Figure size 432x288 with 1 Axes>"
      ]
     },
     "metadata": {
      "needs_background": "light"
     },
     "output_type": "display_data"
    }
   ],
   "source": [
    "# Выводим динамику среднего абсолютного отклонения от номера эпохи обучения.\n",
    "plt.plot(history.history['mean_absolute_error'])\n",
    "plt.plot(history.history['val_mean_absolute_error']) \n",
    "plt.title('Model MAE') \n",
    "plt.ylabel('MAE') \n",
    "plt.xlabel('Epoch') \n",
    "plt.legend(['Train', 'Test'], loc='upper right') \n",
    "plt.show()"
   ]
  },
  {
   "cell_type": "code",
   "execution_count": 12,
   "metadata": {},
   "outputs": [
    {
     "data": {
      "image/png": "[encoded data removed]",
      "text/plain": [
       "<Figure size 432x288 with 1 Axes>"
      ]
     },
     "metadata": {
      "needs_background": "light"
     },
     "output_type": "display_data"
    }
   ],
   "source": [
    "# Выводим динамику среднеквадратического отклонения, т.е. значения функции потерь, от номера эпохи обучения.\n",
    "# Видно, что в процессе обучения сеть с каждой эпохой вычисляет всё более точные прогнозы значений Y.\n",
    "plt.plot(history.history['mean_squared_error'])\n",
    "plt.plot(history.history['val_mean_squared_error']) \n",
    "plt.title('Model MSE') \n",
    "plt.ylabel('MSE') \n",
    "plt.xlabel('Epoch') \n",
    "plt.legend(['Train', 'Test'], loc='upper right') \n",
    "plt.show()"
   ]
  },
  {
   "cell_type": "code",
   "execution_count": 13,
   "metadata": {},
   "outputs": [],
   "source": [
    "# Предсказание уже обученной нейронной сети на обучающей выборке:\n",
    "Y_pred_train = model.predict(X_train).flatten()"
   ]
  },
  {
   "cell_type": "code",
   "execution_count": 14,
   "metadata": {},
   "outputs": [
    {
     "data": {
      "image/png": "[encoded data removed]",
      "text/plain": [
       "<Figure size 432x288 with 1 Axes>"
      ]
     },
     "metadata": {
      "needs_background": "light"
     },
     "output_type": "display_data"
    }
   ],
   "source": [
    "# Сравним эталонные значения Y_train и результат работы обученной нейронной сети Y_pred_train для обучающей выборки.\n",
    "# В идеальной ситуации они должны совпадать, т.е. точки (Y_train[i], Y_pred_train[i]) должны лежать на прямой Y_train = Y_pred_train.\n",
    "plt.plot(Y_train, Y_pred_train, 'bo')\n",
    "plt.plot([0,1], [0,1], 'r-')\n",
    "plt.title('Test vs Pred_test') \n",
    "plt.ylabel('Pred_test') \n",
    "plt.xlabel('Test') \n",
    "plt.show()"
   ]
  },
  {
   "cell_type": "code",
   "execution_count": 15,
   "metadata": {},
   "outputs": [
    {
     "data": {
      "image/png": "[encoded data removed]",
      "text/plain": [
       "<Figure size 432x288 with 1 Axes>"
      ]
     },
     "metadata": {
      "needs_background": "light"
     },
     "output_type": "display_data"
    }
   ],
   "source": [
    "# Выведем сами значения Y_train и Y_pred_train.\n",
    "plt.plot(Y_train)\n",
    "plt.plot(Y_pred_train)\n",
    "plt.show()"
   ]
  },
  {
   "cell_type": "code",
   "execution_count": 16,
   "metadata": {},
   "outputs": [],
   "source": [
    "# Таким образом, обучение по обучающей выборке проведено.\n",
    "# Теперь проверим работу нейроной сети на тестовой выборке.\n",
    "\n",
    "# Предсказание обученной нейронной сети на тестовой выборке:\n",
    "Y_pred_test = model.predict(X_test).flatten()"
   ]
  },
  {
   "cell_type": "code",
   "execution_count": 17,
   "metadata": {
    "scrolled": true
   },
   "outputs": [
    {
     "data": {
      "image/png": "[encoded data removed]",
      "text/plain": [
       "<Figure size 432x288 with 1 Axes>"
      ]
     },
     "metadata": {
      "needs_background": "light"
     },
     "output_type": "display_data"
    }
   ],
   "source": [
    "# Сравним эталонные значения Y_test и результат работы обученной нейронной сети Y_pred_test для тестовой выборки.\n",
    "plt.plot(Y_test, Y_pred_test, 'bo')\n",
    "plt.plot([0,1], [0,1], 'r-')\n",
    "plt.title('Test vs Pred_test') \n",
    "plt.ylabel('Pred_test') \n",
    "plt.xlabel('Test') \n",
    "plt.show()"
   ]
  },
  {
   "cell_type": "code",
   "execution_count": 18,
   "metadata": {
    "scrolled": false
   },
   "outputs": [
    {
     "data": {
      "image/png": "[encoded data removed]",
      "text/plain": [
       "<Figure size 432x288 with 1 Axes>"
      ]
     },
     "metadata": {
      "needs_background": "light"
     },
     "output_type": "display_data"
    }
   ],
   "source": [
    "# Выведем сами значения Y_test и Y_pred_test.\n",
    "plt.plot(Y_test)\n",
    "plt.plot(Y_pred_test)\n",
    "plt.show()"
   ]
  },
  {
   "cell_type": "code",
   "execution_count": 19,
   "metadata": {},
   "outputs": [
    {
     "name": "stdout",
     "output_type": "stream",
     "text": [
      "0.003554470454117498\n",
      "0.003628639986358812\n"
     ]
    }
   ],
   "source": [
    "# Итого, качество работы нейронной сети на тестовых данных ниже, чем на обучающих - это ожидаемо.\n",
    "# Тем не менее, нейронная сеть способна найти зависимости и предсказвать значение Y по X с приемлемым уровенм точности.\n",
    "\n",
    "# Сравним среднеквадратичные ошибки (значения функции потерь) для обучающей и тестовой выборок.\n",
    "print(numpy.sqrt(mean_squared_error(Y_train, Y_pred_train)))\n",
    "print(numpy.sqrt(mean_squared_error(Y_test, Y_pred_test)))"
   ]
  },
  {
   "cell_type": "code",
   "execution_count": 20,
   "metadata": {},
   "outputs": [
    {
     "name": "stdout",
     "output_type": "stream",
     "text": [
      "Train k = 0.7647925615310669, p = 2.5924021590009116e-43\n",
      "Test k = 0.7280824184417725, p = 2.8482086758369815e-25\n"
     ]
    }
   ],
   "source": [
    "# Проверим на нормальное распределение разности пар (Y_train, Y_pred_train), (Y_test, Y_pred_test)\n",
    "# Для этого используем библиотеку scipy и метод stats.shapiro.\n",
    "k_train, p_train = stats.shapiro(Y_train - Y_pred_train)\n",
    "print('Train k = {0}, p = {1}'.format(k_train, p_train))\n",
    "\n",
    "k_test, p_test = stats.shapiro(Y_test - Y_pred_test)\n",
    "print('Test k = {0}, p = {1}'.format(k_test, p_test))"
   ]
  },
  {
   "cell_type": "code",
   "execution_count": 21,
   "metadata": {},
   "outputs": [
    {
     "name": "stdout",
     "output_type": "stream",
     "text": [
      "k_s = 0.7580963373184204, p_s = 0.0\n",
      "k_n = 638.0507512008539, p_n = 2.8121584657179786e-139\n"
     ]
    }
   ],
   "source": [
    "# Для полной выборки (Y, Y_pred) применим два статистических теста: shapiro и normaltest.\n",
    "Y_pred = model.predict(X).flatten()\n",
    "\n",
    "k_s, p_s = stats.shapiro(Y - Y_pred)\n",
    "print('k_s = {0}, p_s = {1}'.format(k_s, p_s))\n",
    "\n",
    "k_n, p_n = stats.normaltest(Y - Y_pred)\n",
    "print('k_n = {0}, p_n = {1}'.format(k_n, p_n))"
   ]
  },
  {
   "cell_type": "code",
   "execution_count": 22,
   "metadata": {
    "scrolled": true
   },
   "outputs": [
    {
     "data": {
      "image/png": "[encoded data removed]",
      "text/plain": [
       "<Figure size 432x288 with 1 Axes>"
      ]
     },
     "metadata": {
      "needs_background": "light"
     },
     "output_type": "display_data"
    }
   ],
   "source": [
    "# И тоже самое визуально, с помощью грфиков квантиль-квантиль.\n",
    "# Обучающая выборка\n",
    "qqplot(Y_train - Y_pred_train)\n",
    "plt.show()"
   ]
  },
  {
   "cell_type": "code",
   "execution_count": 23,
   "metadata": {
    "scrolled": true
   },
   "outputs": [
    {
     "data": {
      "image/png": "[encoded data removed]",
      "text/plain": [
       "<Figure size 432x288 with 1 Axes>"
      ]
     },
     "metadata": {
      "needs_background": "light"
     },
     "output_type": "display_data"
    }
   ],
   "source": [
    "# Тестовая выборка\n",
    "qqplot(Y_test - Y_pred_test)\n",
    "plt.show()"
   ]
  },
  {
   "cell_type": "code",
   "execution_count": 24,
   "metadata": {
    "scrolled": true
   },
   "outputs": [
    {
     "data": {
      "image/png": "[encoded data removed]",
      "text/plain": [
       "<Figure size 432x288 with 1 Axes>"
      ]
     },
     "metadata": {
      "needs_background": "light"
     },
     "output_type": "display_data"
    }
   ],
   "source": [
    "# Полная выборка\n",
    "qqplot(Y - Y_pred)\n",
    "plt.show()"
   ]
  },
  {
   "cell_type": "code",
   "execution_count": 25,
   "metadata": {},
   "outputs": [
    {
     "data": {
      "image/png": "[encoded data removed]",
      "text/plain": [
       "<Figure size 432x288 with 1 Axes>"
      ]
     },
     "metadata": {
      "needs_background": "light"
     },
     "output_type": "display_data"
    }
   ],
   "source": [
    "# Можо также визульно убедиться, что распределения \"почти нормальное\".\n",
    "plt.hist(Y - Y_pred, bins=50)\n",
    "plt.show()"
   ]
  },
  {
   "cell_type": "code",
   "execution_count": 26,
   "metadata": {},
   "outputs": [],
   "source": [
    "# Сохраним обученную нейронную сеть, название файла можно выбрать любое, расширение - h5.\n",
    "model.save('SimpleNeuralNetwork.h5')"
   ]
  }
 ],
 "metadata": {
  "kernelspec": {
   "display_name": "Python 3",
   "language": "python",
   "name": "python3"
  },
  "language_info": {
   "codemirror_mode": {
    "name": "ipython",
    "version": 3
   },
   "file_extension": ".py",
   "mimetype": "text/x-python",
   "name": "python",
   "nbconvert_exporter": "python",
   "pygments_lexer": "ipython3",
   "version": "3.7.6"
  }
 },
 "nbformat": 4,
 "nbformat_minor": 2
}
